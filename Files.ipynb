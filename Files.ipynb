{
 "cells": [
  {
   "cell_type": "markdown",
   "metadata": {},
   "source": [
    "# Files\n",
    "\n",
    "File is a named location on disk to store related information. Python uses the file objects to interact with external files on the computer. These files could be of any format like text, binary, excel, audio, video files. Please note external libraries will be required to use some of the file formats.\n",
    "\n",
    "Typically in python file operation takes place in the following order:\n",
    "\n",
    "1. Open a file\n",
    "2. Perform Read or Write operation\n",
    "3. Close the file"
   ]
  },
  {
   "cell_type": "markdown",
   "metadata": {},
   "source": [
    "#### Creating a text file in Jupyter"
   ]
  },
  {
   "cell_type": "code",
   "execution_count": 1,
   "metadata": {},
   "outputs": [
    {
     "name": "stdout",
     "output_type": "stream",
     "text": [
      "Writing test.txt\n"
     ]
    }
   ],
   "source": [
    "%%writefile test.txt\n",
    "This is a test file"
   ]
  },
  {
   "cell_type": "markdown",
   "metadata": {},
   "source": [
    "## Opening a file\n",
    "\n",
    "Python has a built-in function called open() to open a file. This function returns a file handle that can be used to read or write the file accordingly.\n",
    "\n",
    "Python allows a file to open in multiple modes. The following are some of the modes that can be used to open a file.\n",
    "\n",
    "* 'r' - open a file for reading\n",
    "* 'w' - open a file for writing, create the file if it does not exist\n",
    "* 'x' - open the file for exclusing creation\n",
    "* 'a' - open the file in append mode, contents will be appended to the end of the file, created if file does not exist\n",
    "* 't' - open a file in text format\n",
    "* 'b' - open a file in binary format\n",
    "* '+' - open a file for reading & writing (for updating)"
   ]
  },
  {
   "cell_type": "code",
   "execution_count": 11,
   "metadata": {},
   "outputs": [
    {
     "name": "stdout",
     "output_type": "stream",
     "text": [
      "False\n",
      "True\n",
      "True\n",
      "57\n"
     ]
    }
   ],
   "source": [
    "# open the file in read mode\n",
    "# f = open(\"C:/Python33/test.txt) # opens file in the specified full path\n",
    "f = open('test.txt','r') # opens file in the current directory in read mode\n",
    "print(f.writable()) # Is the file writable - False\n",
    "print(f.readable()) # Is the file readable - True\n",
    "print(f.seekable()) # Is random access allowed - Must be True\n",
    "print(f.fileno())"
   ]
  },
  {
   "cell_type": "code",
   "execution_count": null,
   "metadata": {
    "collapsed": true
   },
   "outputs": [],
   "source": [
    "# Different ways of opening the files\n",
    "\n",
    "# f = open('test.txt') # equal to 'r' or 'rt' (read text)\n",
    "# f = open('test.txt','w') # write in text mode\n",
    "# f = open('image.bmp','r+b') # read and write in binary mode\n",
    "\n",
    "# using encoding type\n",
    "# f = open(\"test.txt\", mode=\"r\", encoding=\"utf-8\")"
   ]
  },
  {
   "cell_type": "markdown",
   "metadata": {},
   "source": [
    "## Closing File\n",
    "\n",
    "Files need to be properly closed so that the resources can be released othewise they will be tied up unnecessarily."
   ]
  },
  {
   "cell_type": "code",
   "execution_count": 17,
   "metadata": {},
   "outputs": [
    {
     "name": "stdout",
     "output_type": "stream",
     "text": [
      "False\n"
     ]
    }
   ],
   "source": [
    "# close the file using close function\n",
    "f.close()"
   ]
  },
  {
   "cell_type": "markdown",
   "metadata": {},
   "source": [
    "#### Opening & Closing Files in Safe Way"
   ]
  },
  {
   "cell_type": "code",
   "execution_count": 23,
   "metadata": {},
   "outputs": [
    {
     "name": "stdout",
     "output_type": "stream",
     "text": [
      "This\n"
     ]
    }
   ],
   "source": [
    "# Using Exception Method\n",
    "try:\n",
    "    f = open(\"test.txt\",mode=\"r\",encoding=\"utf-8\")\n",
    "    # perform file operations\n",
    "    f.seek(0)\n",
    "    print(f.read(4))\n",
    "finally:\n",
    "    f.close()"
   ]
  },
  {
   "cell_type": "code",
   "execution_count": 24,
   "metadata": {},
   "outputs": [
    {
     "name": "stdout",
     "output_type": "stream",
     "text": [
      "This is a test file\n"
     ]
    }
   ],
   "source": [
    "# Using 'with' Method\n",
    "# Explicit close is not required. File is closed implicitly when the block inside 'with' is exited.\n",
    "with open('test.txt',encoding='utf-8') as f:\n",
    "    # perform file operations\n",
    "    print(f.read())"
   ]
  },
  {
   "cell_type": "markdown",
   "metadata": {},
   "source": [
    "## Reading a file"
   ]
  },
  {
   "cell_type": "code",
   "execution_count": 34,
   "metadata": {},
   "outputs": [
    {
     "name": "stdout",
     "output_type": "stream",
     "text": [
      "0\n",
      "This\n",
      "4\n",
      " is a test file\n",
      "19\n",
      "\n",
      "19\n"
     ]
    }
   ],
   "source": [
    "with open('test.txt') as f:\n",
    "    f.seek(0) # move the file pointer to start of the file\n",
    "    print(f.tell())\n",
    "    print(f.read(4)) # read the first 4 words\n",
    "    print(f.tell())  # print the current file handler position\n",
    "    print(f.read())  # read till end of file\n",
    "    print(f.tell())\n",
    "    print(f.read())  # this will print nothing as it reached end of file\n",
    "    print(f.tell())"
   ]
  },
  {
   "cell_type": "markdown",
   "metadata": {},
   "source": [
    "#### Reading File Line by Line\n",
    "\n",
    "Lets create a simple file using Jupyter macro %%writefile"
   ]
  },
  {
   "cell_type": "code",
   "execution_count": 36,
   "metadata": {},
   "outputs": [
    {
     "name": "stdout",
     "output_type": "stream",
     "text": [
      "Writing test1.txt\n"
     ]
    }
   ],
   "source": [
    "%%writefile test1.txt\n",
    "Line 1\n",
    "Line 2\n",
    "Line 3"
   ]
  },
  {
   "cell_type": "code",
   "execution_count": 45,
   "metadata": {},
   "outputs": [
    {
     "name": "stdout",
     "output_type": "stream",
     "text": [
      "Line 1\n",
      "Line 2\n",
      "\n",
      "Line 3\n",
      "\n",
      "\n"
     ]
    }
   ],
   "source": [
    "with open('test1.txt') as f:\n",
    "    print(f.readline(), end = '')  # Prints the 1st Line\n",
    "    print(f.readline())  # Prints the 2nd Line\n",
    "    print(f.readline())  # Prints the 3rd Line\n",
    "    print(f.readline())  # prints blank lines\n",
    "    print(f.readline())"
   ]
  },
  {
   "cell_type": "code",
   "execution_count": 39,
   "metadata": {},
   "outputs": [
    {
     "name": "stdout",
     "output_type": "stream",
     "text": [
      "['Line 1\\n', 'Line 2\\n', 'Line 3']\n"
     ]
    }
   ],
   "source": [
    "with open('test1.txt') as f:\n",
    "    print(f.readlines())"
   ]
  },
  {
   "cell_type": "code",
   "execution_count": 40,
   "metadata": {},
   "outputs": [
    {
     "name": "stdout",
     "output_type": "stream",
     "text": [
      "Line 1\n",
      "Line 2\n",
      "Line 3"
     ]
    }
   ],
   "source": [
    "# using for loop\n",
    "for line in open('test1.txt'):\n",
    "    print(line, end='') # end parameter to avoid printing blank lines"
   ]
  },
  {
   "cell_type": "code",
   "execution_count": 51,
   "metadata": {},
   "outputs": [
    {
     "name": "stdout",
     "output_type": "stream",
     "text": [
      "['New File - Line 1New File - Line 2']\n"
     ]
    }
   ],
   "source": [
    "with open('newfile.txt','w+') as f:\n",
    "    f.writelines('New File - Line 1')\n",
    "    f.writelines('New File - Line 2')\n",
    "    f.seek(0)\n",
    "    print(f.readlines())"
   ]
  },
  {
   "cell_type": "code",
   "execution_count": 56,
   "metadata": {},
   "outputs": [
    {
     "name": "stdout",
     "output_type": "stream",
     "text": [
      "New File - Line 1New File - Line 2this is appended linethis is appended linethis is appended linethis is appended linethis is appended line\n"
     ]
    }
   ],
   "source": [
    "try:\n",
    "    f = open('newfile.txt','a')\n",
    "    f.write('this is appended line')\n",
    "    f.close()\n",
    "    f = open('newfile.txt','r')\n",
    "    print(f.read())\n",
    "finally:\n",
    "    f.close()"
   ]
  }
 ],
 "metadata": {
  "kernelspec": {
   "display_name": "Python 3",
   "language": "python",
   "name": "python3"
  },
  "language_info": {
   "codemirror_mode": {
    "name": "ipython",
    "version": 3
   },
   "file_extension": ".py",
   "mimetype": "text/x-python",
   "name": "python",
   "nbconvert_exporter": "python",
   "pygments_lexer": "ipython3",
   "version": "3.6.1"
  }
 },
 "nbformat": 4,
 "nbformat_minor": 2
}
