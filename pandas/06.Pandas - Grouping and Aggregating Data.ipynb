{
 "cells": [
  {
   "cell_type": "markdown",
   "metadata": {},
   "source": [
    "# Grouping and Aggregating Data\n",
    "\n",
    "pandas library provides a flexible and high-performance \"groupby\" facility that enables you to slice,dice and summarize data sets. This follows a pattern known as split-apply-combine. This pattern data is first categorized into groups based on a criteria such as the indexes or values within the columns. Each group is then processed with an aggregation or transformation function, returning a set of data with transformed values or a single aggregate summary for each group. pandas then combines all of these results and presents it in a single data structure."
   ]
  },
  {
   "cell_type": "markdown",
   "metadata": {},
   "source": [
    "#### Setting up the notebook"
   ]
  },
  {
   "cell_type": "code",
   "execution_count": 1,
   "metadata": {
    "collapsed": true
   },
   "outputs": [],
   "source": [
    "# import numpy,pandas\n",
    "import numpy as np\n",
    "import pandas as pd\n",
    "\n",
    "# set some pandas options for controlling output\n",
    "pd.set_option('display.notebook_repr_html',False)\n",
    "pd.set_option('display.max_columns',10)\n",
    "pd.set_option('display.max_rows',10)\n",
    "\n",
    "# inline graphics\n",
    "%matplotlib inline"
   ]
  },
  {
   "cell_type": "markdown",
   "metadata": {},
   "source": [
    "## Split-Apply-Combine (SAC) Pattern\n",
    "\n",
    "Many data analysis problems utilize a pattern of processing data known as split-apply-combine. In this pattern, three steps are taken to analyze data:\n",
    "1. A data set is split into smaller pieces\n",
    "2. Each of these pieces are operated upon independently\n",
    "3. All of the results are combined back together and presented as a single unit\n",
    "\n",
    "This patttern is actually similar to the concepts in MapReduce. In MapReduce, massive sets of data, that are too big for a single computer, are divivided into pieces and dispatched to many systems to spread the load in manageable pieces (split). Each system then performs analysis on the data and calculates a result(apply). The results are then collected from each system and used for decision making (combined).\n",
    "\n",
    "Once the data is split into groups one or more of the following three operations are applied:\n",
    "\n",
    "* Aggregation - This calculates a summary statistics such as group means or counts of the items in each group\n",
    "* Transformation - This performs group or item specific calculations and returns a set of like-indexed results\n",
    "* Filtration - This removes entire groups of data based on a group level computation.\n",
    "\n",
    "The combine stage of the pattern is performed automatically by pandas, which will collect the results of the apply stage on all of the groups and construct a single merged result.\n",
    "\n",
    "To Read: http://www.jstatsoft.org/v40/i01/paper\n"
   ]
  },
  {
   "cell_type": "markdown",
   "metadata": {},
   "source": [
    "## Split"
   ]
  },
  {
   "cell_type": "code",
   "execution_count": 2,
   "metadata": {},
   "outputs": [
    {
     "data": {
      "text/plain": [
       "    interval       sensor axis  reading\n",
       "0          0        accel    Z      0.0\n",
       "1          0        accel    Y      0.5\n",
       "2          0        accel    X      1.0\n",
       "3          1        accel    Z      0.1\n",
       "4          1        accel    Y      0.4\n",
       "..       ...          ...  ...      ...\n",
       "19         2  orientation    Y      0.3\n",
       "20         2  orientation    X      0.2\n",
       "21         3  orientation    Z      0.0\n",
       "22         3  orientation    Y      0.4\n",
       "23         3  orientation    X      0.3\n",
       "\n",
       "[24 rows x 4 columns]"
      ]
     },
     "execution_count": 2,
     "metadata": {},
     "output_type": "execute_result"
    }
   ],
   "source": [
    "# load the sensors data\n",
    "sensors = pd.read_csv(\"../../data/sensors.csv\")\n",
    "sensors"
   ]
  },
  {
   "cell_type": "markdown",
   "metadata": {},
   "source": [
    "#### Grouping by a single column value\n",
    "\n",
    "The sensor data consists of three categorical variables (sensor, interval and axis) and one continuous variable (reading). In pandas, it is possible to group by any single categorical variable by passing its name to .groupby()."
   ]
  },
  {
   "cell_type": "code",
   "execution_count": 3,
   "metadata": {},
   "outputs": [
    {
     "data": {
      "text/plain": [
       "<pandas.core.groupby.DataFrameGroupBy object at 0x119e02f98>"
      ]
     },
     "execution_count": 3,
     "metadata": {},
     "output_type": "execute_result"
    }
   ],
   "source": [
    "# group this data by the sensor column / variable\n",
    "# returns a DataFrameGroupBy object\n",
    "grouped = sensors.groupby('sensor')\n",
    "grouped"
   ]
  },
  {
   "cell_type": "markdown",
   "metadata": {},
   "source": [
    "The result of calling .groupby() on DataFrame is not the actual grouped data, but a DataFrameGroupBy object. The actual process of grouping is a deferred / lazy process in pandas, and at this point the grouping has not actually been performed."
   ]
  },
  {
   "cell_type": "code",
   "execution_count": 4,
   "metadata": {},
   "outputs": [
    {
     "data": {
      "text/plain": [
       "2"
      ]
     },
     "execution_count": 4,
     "metadata": {},
     "output_type": "execute_result"
    }
   ],
   "source": [
    "# get the number of groups that this will create\n",
    "grouped.ngroups"
   ]
  },
  {
   "cell_type": "code",
   "execution_count": 5,
   "metadata": {},
   "outputs": [
    {
     "data": {
      "text/plain": [
       "{'accel': Int64Index([0, 1, 2, 3, 4, 5, 6, 7, 8, 9, 10, 11], dtype='int64'),\n",
       " 'orientation': Int64Index([12, 13, 14, 15, 16, 17, 18, 19, 20, 21, 22, 23], dtype='int64')}"
      ]
     },
     "execution_count": 5,
     "metadata": {},
     "output_type": "execute_result"
    }
   ],
   "source": [
    "# what are the groups that were found?\n",
    "grouped.groups"
   ]
  },
  {
   "cell_type": "markdown",
   "metadata": {},
   "source": [
    "#### Accessing the results of grouping"
   ]
  },
  {
   "cell_type": "code",
   "execution_count": 6,
   "metadata": {},
   "outputs": [
    {
     "name": "stdout",
     "output_type": "stream",
     "text": [
      "accel\n",
      "    interval sensor axis  reading\n",
      "0          0  accel    Z      0.0\n",
      "1          0  accel    Y      0.5\n",
      "2          0  accel    X      1.0\n",
      "3          1  accel    Z      0.1\n",
      "4          1  accel    Y      0.4\n",
      "..       ...    ...  ...      ...\n",
      "7          2  accel    Y      0.3\n",
      "8          2  accel    X      0.8\n",
      "9          3  accel    Z      0.3\n",
      "10         3  accel    Y      0.2\n",
      "11         3  accel    X      0.7\n",
      "\n",
      "[12 rows x 4 columns]\n",
      "orientation\n",
      "    interval       sensor axis  reading\n",
      "12         0  orientation    Z      0.0\n",
      "13         0  orientation    Y      0.1\n",
      "14         0  orientation    X      0.0\n",
      "15         1  orientation    Z      0.0\n",
      "16         1  orientation    Y      0.2\n",
      "..       ...          ...  ...      ...\n",
      "19         2  orientation    Y      0.3\n",
      "20         2  orientation    X      0.2\n",
      "21         3  orientation    Z      0.0\n",
      "22         3  orientation    Y      0.4\n",
      "23         3  orientation    X      0.3\n",
      "\n",
      "[12 rows x 4 columns]\n"
     ]
    }
   ],
   "source": [
    "# a helper function to print the contents of the groups\n",
    "def print_groups(groupobject):\n",
    "    # loop over all groups, printing the group name\n",
    "    # and group details\n",
    "    for name, group in groupobject:\n",
    "        print(name)\n",
    "        print(group)\n",
    "        \n",
    "# examine the content of the groups we created\n",
    "print_groups(grouped)"
   ]
  },
  {
   "cell_type": "markdown",
   "metadata": {},
   "source": [
    "The examination of these results gives us some insight into how pandas has performed the split that we specified. A group has been created for each distinct value in the sensors columns and has been named with that value. The group contains a DataFrame object whose content is the rows where the sensor value matched the name of the group."
   ]
  },
  {
   "cell_type": "code",
   "execution_count": 7,
   "metadata": {},
   "outputs": [
    {
     "data": {
      "text/plain": [
       "sensor\n",
       "accel          12\n",
       "orientation    12\n",
       "dtype: int64"
      ]
     },
     "execution_count": 7,
     "metadata": {},
     "output_type": "execute_result"
    }
   ],
   "source": [
    "grouped.size()"
   ]
  },
  {
   "cell_type": "code",
   "execution_count": 8,
   "metadata": {},
   "outputs": [
    {
     "data": {
      "text/plain": [
       "             interval  axis  reading\n",
       "sensor                              \n",
       "accel              12    12       12\n",
       "orientation        12    12       12"
      ]
     },
     "execution_count": 8,
     "metadata": {},
     "output_type": "execute_result"
    }
   ],
   "source": [
    "# get the count of items in each column of each group\n",
    "grouped.count()"
   ]
  },
  {
   "cell_type": "code",
   "execution_count": 9,
   "metadata": {},
   "outputs": [
    {
     "data": {
      "text/plain": [
       "    interval sensor axis  reading\n",
       "0          0  accel    Z      0.0\n",
       "1          0  accel    Y      0.5\n",
       "2          0  accel    X      1.0\n",
       "3          1  accel    Z      0.1\n",
       "4          1  accel    Y      0.4\n",
       "..       ...    ...  ...      ...\n",
       "7          2  accel    Y      0.3\n",
       "8          2  accel    X      0.8\n",
       "9          3  accel    Z      0.3\n",
       "10         3  accel    Y      0.2\n",
       "11         3  accel    X      0.7\n",
       "\n",
       "[12 rows x 4 columns]"
      ]
     },
     "execution_count": 9,
     "metadata": {},
     "output_type": "execute_result"
    }
   ],
   "source": [
    "# get the data in one specific group\n",
    "grouped.get_group('accel')"
   ]
  },
  {
   "cell_type": "code",
   "execution_count": 10,
   "metadata": {},
   "outputs": [
    {
     "data": {
      "text/plain": [
       "    interval       sensor axis  reading\n",
       "0          0        accel    Z      0.0\n",
       "1          0        accel    Y      0.5\n",
       "2          0        accel    X      1.0\n",
       "12         0  orientation    Z      0.0\n",
       "13         0  orientation    Y      0.1\n",
       "14         0  orientation    X      0.0"
      ]
     },
     "execution_count": 10,
     "metadata": {},
     "output_type": "execute_result"
    }
   ],
   "source": [
    "# get the first three items in each group\n",
    "grouped.head(3)"
   ]
  },
  {
   "cell_type": "code",
   "execution_count": 11,
   "metadata": {},
   "outputs": [
    {
     "data": {
      "text/plain": [
       "            axis  interval  reading\n",
       "sensor                             \n",
       "accel          Z         0      0.0\n",
       "orientation    Z         0      0.0"
      ]
     },
     "execution_count": 11,
     "metadata": {},
     "output_type": "execute_result"
    }
   ],
   "source": [
    "# get the first item in each group\n",
    "grouped.nth(0)"
   ]
  },
  {
   "cell_type": "code",
   "execution_count": 12,
   "metadata": {},
   "outputs": [
    {
     "data": {
      "text/plain": [
       "            axis  interval  reading\n",
       "sensor                             \n",
       "accel          Y         0      0.5\n",
       "orientation    Y         0      0.1"
      ]
     },
     "execution_count": 12,
     "metadata": {},
     "output_type": "execute_result"
    }
   ],
   "source": [
    "# get the second item in each group\n",
    "grouped.nth(1)"
   ]
  },
  {
   "cell_type": "code",
   "execution_count": 13,
   "metadata": {},
   "outputs": [
    {
     "data": {
      "text/plain": [
       "            axis  interval  reading\n",
       "sensor                             \n",
       "accel          X         0      1.0\n",
       "orientation    X         0      0.0"
      ]
     },
     "execution_count": 13,
     "metadata": {},
     "output_type": "execute_result"
    }
   ],
   "source": [
    "grouped.nth(2)"
   ]
  },
  {
   "cell_type": "markdown",
   "metadata": {},
   "source": [
    "Grouping can also be performed on multiple columns by passing a list of column names. The following groups the data by both sensor and axis variables:"
   ]
  },
  {
   "cell_type": "code",
   "execution_count": 14,
   "metadata": {},
   "outputs": [
    {
     "name": "stdout",
     "output_type": "stream",
     "text": [
      "('accel', 'X')\n",
      "    interval sensor axis  reading\n",
      "2          0  accel    X      1.0\n",
      "5          1  accel    X      0.9\n",
      "8          2  accel    X      0.8\n",
      "11         3  accel    X      0.7\n",
      "('accel', 'Y')\n",
      "    interval sensor axis  reading\n",
      "1          0  accel    Y      0.5\n",
      "4          1  accel    Y      0.4\n",
      "7          2  accel    Y      0.3\n",
      "10         3  accel    Y      0.2\n",
      "('accel', 'Z')\n",
      "   interval sensor axis  reading\n",
      "0         0  accel    Z      0.0\n",
      "3         1  accel    Z      0.1\n",
      "6         2  accel    Z      0.2\n",
      "9         3  accel    Z      0.3\n",
      "('orientation', 'X')\n",
      "    interval       sensor axis  reading\n",
      "14         0  orientation    X      0.0\n",
      "17         1  orientation    X      0.1\n",
      "20         2  orientation    X      0.2\n",
      "23         3  orientation    X      0.3\n",
      "('orientation', 'Y')\n",
      "    interval       sensor axis  reading\n",
      "13         0  orientation    Y      0.1\n",
      "16         1  orientation    Y      0.2\n",
      "19         2  orientation    Y      0.3\n",
      "22         3  orientation    Y      0.4\n",
      "('orientation', 'Z')\n",
      "    interval       sensor axis  reading\n",
      "12         0  orientation    Z      0.0\n",
      "15         1  orientation    Z      0.0\n",
      "18         2  orientation    Z      0.0\n",
      "21         3  orientation    Z      0.0\n"
     ]
    }
   ],
   "source": [
    "# group by both sensor and axis values\n",
    "mcg = sensors.groupby(['sensor','axis'])\n",
    "print_groups(mcg)"
   ]
  },
  {
   "cell_type": "code",
   "execution_count": 15,
   "metadata": {},
   "outputs": [
    {
     "data": {
      "text/plain": [
       "                 interval                           ...  reading               \\\n",
       "                    count mean       std  min   25% ...      min    25%   50%   \n",
       "sensor      axis                                    ...                         \n",
       "accel       X         4.0  1.5  1.290994  0.0  0.75 ...      0.7  0.775  0.85   \n",
       "            Y         4.0  1.5  1.290994  0.0  0.75 ...      0.2  0.275  0.35   \n",
       "            Z         4.0  1.5  1.290994  0.0  0.75 ...      0.0  0.075  0.15   \n",
       "orientation X         4.0  1.5  1.290994  0.0  0.75 ...      0.0  0.075  0.15   \n",
       "            Y         4.0  1.5  1.290994  0.0  0.75 ...      0.1  0.175  0.25   \n",
       "            Z         4.0  1.5  1.290994  0.0  0.75 ...      0.0  0.000  0.00   \n",
       "\n",
       "                              \n",
       "                    75%  max  \n",
       "sensor      axis              \n",
       "accel       X     0.925  1.0  \n",
       "            Y     0.425  0.5  \n",
       "            Z     0.225  0.3  \n",
       "orientation X     0.225  0.3  \n",
       "            Y     0.325  0.4  \n",
       "            Z     0.000  0.0  \n",
       "\n",
       "[6 rows x 16 columns]"
      ]
     },
     "execution_count": 15,
     "metadata": {},
     "output_type": "execute_result"
    }
   ],
   "source": [
    "# get descriptive statistics for each\n",
    "mcg.describe()"
   ]
  },
  {
   "cell_type": "markdown",
   "metadata": {},
   "source": [
    "By default, groups are sorted by their group name in an ascending order. If you want to prevent sorting during grouping use the sort=False option."
   ]
  },
  {
   "cell_type": "markdown",
   "metadata": {},
   "source": [
    "#### Grouping using index levels"
   ]
  },
  {
   "cell_type": "code",
   "execution_count": 16,
   "metadata": {},
   "outputs": [
    {
     "data": {
      "text/plain": [
       "                  interval  reading\n",
       "sensor      axis                   \n",
       "accel       Z            0      0.0\n",
       "            Y            0      0.5\n",
       "            X            0      1.0\n",
       "            Z            1      0.1\n",
       "            Y            1      0.4\n",
       "...                    ...      ...\n",
       "orientation Y            2      0.3\n",
       "            X            2      0.2\n",
       "            Z            3      0.0\n",
       "            Y            3      0.4\n",
       "            X            3      0.3\n",
       "\n",
       "[24 rows x 2 columns]"
      ]
     },
     "execution_count": 16,
     "metadata": {},
     "output_type": "execute_result"
    }
   ],
   "source": [
    "# make a copy of the data and reindex the copy\n",
    "mi = sensors.copy()\n",
    "mi = mi.set_index(['sensor','axis'])\n",
    "mi"
   ]
  },
  {
   "cell_type": "code",
   "execution_count": 17,
   "metadata": {},
   "outputs": [
    {
     "name": "stdout",
     "output_type": "stream",
     "text": [
      "accel\n",
      "             interval  reading\n",
      "sensor axis                   \n",
      "accel  Z            0      0.0\n",
      "       Y            0      0.5\n",
      "       X            0      1.0\n",
      "       Z            1      0.1\n",
      "       Y            1      0.4\n",
      "...               ...      ...\n",
      "       Y            2      0.3\n",
      "       X            2      0.8\n",
      "       Z            3      0.3\n",
      "       Y            3      0.2\n",
      "       X            3      0.7\n",
      "\n",
      "[12 rows x 2 columns]\n",
      "orientation\n",
      "                  interval  reading\n",
      "sensor      axis                   \n",
      "orientation Z            0      0.0\n",
      "            Y            0      0.1\n",
      "            X            0      0.0\n",
      "            Z            1      0.0\n",
      "            Y            1      0.2\n",
      "...                    ...      ...\n",
      "            Y            2      0.3\n",
      "            X            2      0.2\n",
      "            Z            3      0.0\n",
      "            Y            3      0.4\n",
      "            X            3      0.3\n",
      "\n",
      "[12 rows x 2 columns]\n"
     ]
    }
   ],
   "source": [
    "# group by first level of index\n",
    "mig_11 = mi.groupby(level=0)\n",
    "print_groups(mig_11)"
   ]
  },
  {
   "cell_type": "code",
   "execution_count": 18,
   "metadata": {},
   "outputs": [
    {
     "name": "stdout",
     "output_type": "stream",
     "text": [
      "('accel', 'X')\n",
      "             interval  reading\n",
      "sensor axis                   \n",
      "accel  X            0      1.0\n",
      "       X            1      0.9\n",
      "       X            2      0.8\n",
      "       X            3      0.7\n",
      "('accel', 'Y')\n",
      "             interval  reading\n",
      "sensor axis                   \n",
      "accel  Y            0      0.5\n",
      "       Y            1      0.4\n",
      "       Y            2      0.3\n",
      "       Y            3      0.2\n",
      "('accel', 'Z')\n",
      "             interval  reading\n",
      "sensor axis                   \n",
      "accel  Z            0      0.0\n",
      "       Z            1      0.1\n",
      "       Z            2      0.2\n",
      "       Z            3      0.3\n",
      "('orientation', 'X')\n",
      "                  interval  reading\n",
      "sensor      axis                   \n",
      "orientation X            0      0.0\n",
      "            X            1      0.1\n",
      "            X            2      0.2\n",
      "            X            3      0.3\n",
      "('orientation', 'Y')\n",
      "                  interval  reading\n",
      "sensor      axis                   \n",
      "orientation Y            0      0.1\n",
      "            Y            1      0.2\n",
      "            Y            2      0.3\n",
      "            Y            3      0.4\n",
      "('orientation', 'Z')\n",
      "                  interval  reading\n",
      "sensor      axis                   \n",
      "orientation Z            0      0.0\n",
      "            Z            1      0.0\n",
      "            Z            2      0.0\n",
      "            Z            3      0.0\n"
     ]
    }
   ],
   "source": [
    "# group by multiple levels of the index\n",
    "mig_112 = mi.groupby(level=['sensor','axis'])\n",
    "print_groups(mig_112)"
   ]
  },
  {
   "cell_type": "markdown",
   "metadata": {},
   "source": [
    "## Apply\n",
    "\n",
    "After the grouping is performed, we have the ability to perform either aggregate calculations on each group of data resulting in a single value from each group or to apply a transformation to each item in a group and return the combined result for each group.\n",
    "\n",
    "We can also filter groups based on results of expressions to exclude the groups from being included in the combined results."
   ]
  },
  {
   "cell_type": "markdown",
   "metadata": {},
   "source": [
    "#### Applying aggregation functions to groups\n",
    "\n",
    "pandas allows the application of an aggregation function to each group of data. Aggregation is performed using the .aggregate() method of the GroupBy object."
   ]
  },
  {
   "cell_type": "code",
   "execution_count": 19,
   "metadata": {},
   "outputs": [
    {
     "data": {
      "text/plain": [
       "                  interval  reading\n",
       "sensor      axis                   \n",
       "accel       X          1.5     0.85\n",
       "            Y          1.5     0.35\n",
       "            Z          1.5     0.15\n",
       "orientation X          1.5     0.15\n",
       "            Y          1.5     0.25\n",
       "            Z          1.5     0.00"
      ]
     },
     "execution_count": 19,
     "metadata": {},
     "output_type": "execute_result"
    }
   ],
   "source": [
    "# calculate the mean for each sensor / axis\n",
    "mig_112.agg(np.mean)"
   ]
  },
  {
   "cell_type": "code",
   "execution_count": 20,
   "metadata": {},
   "outputs": [
    {
     "data": {
      "text/plain": [
       "        sensor axis  interval  reading\n",
       "0        accel    X       1.5     0.85\n",
       "1        accel    Y       1.5     0.35\n",
       "2        accel    Z       1.5     0.15\n",
       "3  orientation    X       1.5     0.15\n",
       "4  orientation    Y       1.5     0.25\n",
       "5  orientation    Z       1.5     0.00"
      ]
     },
     "execution_count": 20,
     "metadata": {},
     "output_type": "execute_result"
    }
   ],
   "source": [
    "# do not create an index matching the original object\n",
    "sensors.groupby(['sensor','axis'],as_index=False).agg(np.mean)"
   ]
  },
  {
   "cell_type": "code",
   "execution_count": 21,
   "metadata": {},
   "outputs": [
    {
     "data": {
      "text/plain": [
       "                  interval  reading\n",
       "sensor      axis                   \n",
       "accel       X          1.5     0.85\n",
       "            Y          1.5     0.35\n",
       "            Z          1.5     0.15\n",
       "orientation X          1.5     0.15\n",
       "            Y          1.5     0.25\n",
       "            Z          1.5     0.00"
      ]
     },
     "execution_count": 21,
     "metadata": {},
     "output_type": "execute_result"
    }
   ],
   "source": [
    "# can simply apply the agg function to the group by object\n",
    "mig_112.mean()"
   ]
  },
  {
   "cell_type": "code",
   "execution_count": 23,
   "metadata": {},
   "outputs": [
    {
     "data": {
      "text/plain": [
       "                 interval           reading          \n",
       "                      sum       std     sum       std\n",
       "sensor      axis                                     \n",
       "accel       X           6  1.290994     3.4  0.129099\n",
       "            Y           6  1.290994     1.4  0.129099\n",
       "            Z           6  1.290994     0.6  0.129099\n",
       "orientation X           6  1.290994     0.6  0.129099\n",
       "            Y           6  1.290994     1.0  0.129099\n",
       "            Z           6  1.290994     0.0  0.000000"
      ]
     },
     "execution_count": 23,
     "metadata": {},
     "output_type": "execute_result"
    }
   ],
   "source": [
    "# apply multiple aggregation functions at once\n",
    "mig_112.agg([np.sum,np.std])"
   ]
  },
  {
   "cell_type": "markdown",
   "metadata": {},
   "source": [
    "A different function can be applied to each column in each group by passing a Python dictionary to .agg(), where the keys of the dictionary represent the column name that the function is to be applied to and the value is the function."
   ]
  },
  {
   "cell_type": "code",
   "execution_count": 24,
   "metadata": {},
   "outputs": [
    {
     "data": {
      "text/plain": [
       "                  interval  reading\n",
       "sensor      axis                   \n",
       "accel       X            4     0.85\n",
       "            Y            4     0.35\n",
       "            Z            4     0.15\n",
       "orientation X            4     0.15\n",
       "            Y            4     0.25\n",
       "            Z            4     0.00"
      ]
     },
     "execution_count": 24,
     "metadata": {},
     "output_type": "execute_result"
    }
   ],
   "source": [
    "# apply a different function to each column\n",
    "mig_112.agg({'interval':len,'reading':np.mean})"
   ]
  },
  {
   "cell_type": "markdown",
   "metadata": {},
   "source": [
    "Aggregation can also be performed on specific columns using the [] operator on the GroupBy object."
   ]
  },
  {
   "cell_type": "code",
   "execution_count": 25,
   "metadata": {},
   "outputs": [
    {
     "data": {
      "text/plain": [
       "sensor       axis\n",
       "accel        X       0.85\n",
       "             Y       0.35\n",
       "             Z       0.15\n",
       "orientation  X       0.15\n",
       "             Y       0.25\n",
       "             Z       0.00\n",
       "Name: reading, dtype: float64"
      ]
     },
     "execution_count": 25,
     "metadata": {},
     "output_type": "execute_result"
    }
   ],
   "source": [
    "# calculare the mean of the reading column\n",
    "mig_112['reading'].mean()"
   ]
  },
  {
   "cell_type": "markdown",
   "metadata": {},
   "source": [
    "### Transformation of Group Data\n",
    "\n",
    "The GroupBy objects provide a .transform() method, which applies a function to each group and returns either the Series or DataFrame that has the following parameters\n",
    "\n",
    "* Indexed identically to the concatenation of the indexes in all groups.\n",
    "* Number of rows is equal to the sum of the number of rows in all the groups.\n",
    "* Consists of non-noise, non-grouped columns to which pandas has applied the given function."
   ]
  },
  {
   "cell_type": "code",
   "execution_count": 26,
   "metadata": {},
   "outputs": [
    {
     "data": {
      "text/plain": [
       "  Label   Noise  Values  Values2\n",
       "0     A     foo       0        5\n",
       "1     C     bar       1        6\n",
       "2     B     baz       2        7\n",
       "3     A  foobar       3        8\n",
       "4     C  barbaz       4        9"
      ]
     },
     "execution_count": 26,
     "metadata": {},
     "output_type": "execute_result"
    }
   ],
   "source": [
    "# DataFrame for example\n",
    "df = pd.DataFrame({'Label':['A','C','B','A','C'],\n",
    "                  'Values':[0,1,2,3,4],\n",
    "                  'Values2':[5,6,7,8,9],\n",
    "                  'Noise': ['foo','bar','baz','foobar','barbaz']})\n",
    "df"
   ]
  },
  {
   "cell_type": "code",
   "execution_count": 27,
   "metadata": {},
   "outputs": [
    {
     "name": "stdout",
     "output_type": "stream",
     "text": [
      "A\n",
      "  Label   Noise  Values  Values2\n",
      "0     A     foo       0        5\n",
      "3     A  foobar       3        8\n",
      "B\n",
      "  Label Noise  Values  Values2\n",
      "2     B   baz       2        7\n",
      "C\n",
      "  Label   Noise  Values  Values2\n",
      "1     C     bar       1        6\n",
      "4     C  barbaz       4        9\n"
     ]
    }
   ],
   "source": [
    "# group by label\n",
    "grouped = df.groupby('Label')\n",
    "print_groups(grouped)"
   ]
  },
  {
   "cell_type": "code",
   "execution_count": 28,
   "metadata": {},
   "outputs": [
    {
     "data": {
      "text/plain": [
       "   Values  Values2\n",
       "0      10       15\n",
       "1      11       16\n",
       "2      12       17\n",
       "3      13       18\n",
       "4      14       19"
      ]
     },
     "execution_count": 28,
     "metadata": {},
     "output_type": "execute_result"
    }
   ],
   "source": [
    "# add ten to all values in all columns\n",
    "grouped.transform(lambda x: x + 10)"
   ]
  },
  {
   "cell_type": "markdown",
   "metadata": {},
   "source": [
    "To understand what is going on more clearly, we can change the function being passed to .transform() to write some diagnostic information."
   ]
  },
  {
   "cell_type": "code",
   "execution_count": 29,
   "metadata": {},
   "outputs": [
    {
     "name": "stdout",
     "output_type": "stream",
     "text": [
      "0       foo\n",
      "3    foobar\n",
      "Name: Noise, dtype: object\n",
      "0       foo\n",
      "3    foobar\n",
      "Name: Noise, dtype: object\n",
      "0       foo\n",
      "3    foobar\n",
      "Name: A, dtype: object\n",
      "0    0\n",
      "3    3\n",
      "Name: A, dtype: int64\n",
      "2    2\n",
      "Name: B, dtype: int64\n",
      "1    1\n",
      "4    4\n",
      "Name: C, dtype: int64\n",
      "0    5\n",
      "3    8\n",
      "Name: A, dtype: int64\n",
      "2    7\n",
      "Name: B, dtype: int64\n",
      "1    6\n",
      "4    9\n",
      "Name: C, dtype: int64\n"
     ]
    },
    {
     "data": {
      "text/plain": [
       "   Values  Values2\n",
       "0      10       15\n",
       "1      11       16\n",
       "2      12       17\n",
       "3      13       18\n",
       "4      14       19"
      ]
     },
     "execution_count": 29,
     "metadata": {},
     "output_type": "execute_result"
    }
   ],
   "source": [
    "# a function to print the input before we are adding 10 to it\n",
    "def xplus10(x):\n",
    "    print(x)\n",
    "    return x + 10\n",
    "\n",
    "# transform using xplus10\n",
    "grouped.transform(xplus10)"
   ]
  },
  {
   "cell_type": "markdown",
   "metadata": {},
   "source": [
    "pandas has called the transformation function nine times, one time for every column in every group (3 x 3) and passed a Series object for each combination of group / rows / column and for each of these calls, pandas stores the results and when complete, does a merge of the results back in to DataFrame that is indexed identically to the original data."
   ]
  },
  {
   "cell_type": "code",
   "execution_count": 30,
   "metadata": {},
   "outputs": [
    {
     "data": {
      "text/plain": [
       "       Noise Values Values2\n",
       "0  foofoobar      3      13\n",
       "1  barbarbaz      5      15\n",
       "2        baz      2       7\n",
       "3  foofoobar      3      13\n",
       "4  barbarbaz      5      15"
      ]
     },
     "execution_count": 30,
     "metadata": {},
     "output_type": "execute_result"
    }
   ],
   "source": [
    "# sum returns existing as it is applied to each individual item\n",
    "grouped.transform(lambda x:x.sum())"
   ]
  },
  {
   "cell_type": "markdown",
   "metadata": {},
   "source": [
    "#### Practical Examples of Transformation\n",
    "\n",
    "A common transformation in statistical analysis, with grouped data, is to replace missing data within each group with the mean of the non-Nan values in the group."
   ]
  },
  {
   "cell_type": "code",
   "execution_count": 31,
   "metadata": {},
   "outputs": [
    {
     "data": {
      "text/plain": [
       "   Label  values\n",
       "i1     A    10.0\n",
       "i2     B    20.0\n",
       "i3     A    11.0\n",
       "i4     B     NaN\n",
       "i5     A    12.0\n",
       "i6     B    22.0"
      ]
     },
     "execution_count": 31,
     "metadata": {},
     "output_type": "execute_result"
    }
   ],
   "source": [
    "# data to demonstrate replacement on NaN\n",
    "df = pd.DataFrame({'Label':list(\"ABABAB\"),\n",
    "                   'values':(10,20,11,np.NaN,12,22)},\n",
    "                 index = ['i1','i2','i3','i4','i5','i6'])\n",
    "df"
   ]
  },
  {
   "cell_type": "code",
   "execution_count": 32,
   "metadata": {},
   "outputs": [
    {
     "name": "stdout",
     "output_type": "stream",
     "text": [
      "A\n",
      "   Label  values\n",
      "i1     A    10.0\n",
      "i3     A    11.0\n",
      "i5     A    12.0\n",
      "B\n",
      "   Label  values\n",
      "i2     B    20.0\n",
      "i4     B     NaN\n",
      "i6     B    22.0\n"
     ]
    }
   ],
   "source": [
    "# group by label\n",
    "grouped = df.groupby('Label')\n",
    "print_groups(grouped)"
   ]
  },
  {
   "cell_type": "code",
   "execution_count": 33,
   "metadata": {},
   "outputs": [
    {
     "data": {
      "text/plain": [
       "       values\n",
       "Label        \n",
       "A        11.0\n",
       "B        21.0"
      ]
     },
     "execution_count": 33,
     "metadata": {},
     "output_type": "execute_result"
    }
   ],
   "source": [
    "# calculate the mean of the two groups\n",
    "grouped.mean()"
   ]
  },
  {
   "cell_type": "code",
   "execution_count": 34,
   "metadata": {},
   "outputs": [
    {
     "data": {
      "text/plain": [
       "    values\n",
       "i1    10.0\n",
       "i2    20.0\n",
       "i3    11.0\n",
       "i4    21.0\n",
       "i5    12.0\n",
       "i6    22.0"
      ]
     },
     "execution_count": 34,
     "metadata": {},
     "output_type": "execute_result"
    }
   ],
   "source": [
    "# use transform to fill the NaN with mean of the group\n",
    "filled_NaNs = grouped.transform(lambda x: x.fillna(x.mean()))\n",
    "filled_NaNs"
   ]
  },
  {
   "cell_type": "code",
   "execution_count": 35,
   "metadata": {},
   "outputs": [
    {
     "data": {
      "text/plain": [
       "pandas.core.frame.DataFrame"
      ]
     },
     "execution_count": 35,
     "metadata": {},
     "output_type": "execute_result"
    }
   ],
   "source": [
    "type(filled_NaNs)"
   ]
  },
  {
   "cell_type": "markdown",
   "metadata": {},
   "source": [
    "The result appears odd at a first glance because of the following reasons:\n",
    "    \n",
    "* It does not have a Label column\n",
    "* It has returned the Series object when we passed DataFrame to it\n",
    "* It does not provide an explicit statemtn of which values in which group have been filled with the mean of the group.\n",
    "\n",
    "On the first two points, our original DataFrame has two columns one of which was used in the grouping process. This column is not passed to the .transform() method and in this scenario the only column processed is Values. Upon applying the .transform() method on each group, pandas merges the results which are all Series objects.\n",
    "\n",
    "With respect to the third point, we do not know which values in which groups were changed, but we do know the index in the original data as the index labels are preserved through the process."
   ]
  },
  {
   "cell_type": "code",
   "execution_count": 37,
   "metadata": {},
   "outputs": [
    {
     "data": {
      "text/plain": [
       "   Label  values\n",
       "i1     A    10.0\n",
       "i2     B    20.0\n",
       "i3     A    11.0\n",
       "i4     B    21.0\n",
       "i5     A    12.0\n",
       "i6     B    22.0"
      ]
     },
     "execution_count": 37,
     "metadata": {},
     "output_type": "execute_result"
    }
   ],
   "source": [
    "# overwrite old values with the new ones\n",
    "df.values = filled_NaNs\n",
    "df"
   ]
  },
  {
   "cell_type": "markdown",
   "metadata": {},
   "source": [
    "Another common and practical example is that of using .transform() in statistical analysis and is the process of normalizing multiple groups of data to have a mean 0 and a standard deviation of 1 also referred to as creating a normalized z score of the data."
   ]
  },
  {
   "cell_type": "code",
   "execution_count": 39,
   "metadata": {},
   "outputs": [
    {
     "name": "stderr",
     "output_type": "stream",
     "text": [
      "/Users/cnc/anaconda/lib/python3.6/site-packages/ipykernel_launcher.py:5: FutureWarning: pd.rolling_mean is deprecated for Series and will be removed in a future version, replace with \n",
      "\tSeries.rolling(window=100,min_periods=100,center=False).mean()\n",
      "  \"\"\"\n"
     ]
    },
    {
     "data": {
      "text/plain": [
       "2001-04-10    0.073603\n",
       "2001-04-11    0.057313\n",
       "2001-04-12    0.089255\n",
       "2001-04-13    0.133248\n",
       "2001-04-14    0.175876\n",
       "                ...   \n",
       "2003-12-27    0.811402\n",
       "2003-12-28    0.835961\n",
       "2003-12-29    0.850998\n",
       "2003-12-30    0.842293\n",
       "2003-12-31    0.848419\n",
       "Freq: D, Length: 996, dtype: float64"
      ]
     },
     "execution_count": 39,
     "metadata": {},
     "output_type": "execute_result"
    }
   ],
   "source": [
    "# generate a rolling mean time series\n",
    "np.random.seed(123456)\n",
    "data = pd.Series(np.random.normal(0.5,2,365 * 3),\n",
    "                pd.date_range('2001-01-01', periods=365*3))\n",
    "rolling = pd.rolling_mean(data,100,100).dropna()\n",
    "rolling"
   ]
  },
  {
   "cell_type": "code",
   "execution_count": 40,
   "metadata": {},
   "outputs": [
    {
     "data": {
      "text/plain": [
       "<matplotlib.axes._subplots.AxesSubplot at 0x11af05c50>"
      ]
     },
     "execution_count": 40,
     "metadata": {},
     "output_type": "execute_result"
    },
    {
     "data": {
      "image/png": "[encoded data removed]",
      "text/plain": [
       "<matplotlib.figure.Figure at 0x11aefc780>"
      ]
     },
     "metadata": {},
     "output_type": "display_data"
    }
   ],
   "source": [
    "rolling.plot()"
   ]
  },
  {
   "cell_type": "code",
   "execution_count": 42,
   "metadata": {},
   "outputs": [
    {
     "data": {
      "text/plain": [
       "          mean       std\n",
       "2001  0.454233  0.171988\n",
       "2002  0.286502  0.182040\n",
       "2003  0.599447  0.275786"
      ]
     },
     "execution_count": 42,
     "metadata": {},
     "output_type": "execute_result"
    }
   ],
   "source": [
    "# calculate mean and std by year\n",
    "groupkey = lambda x:x.year\n",
    "groups = rolling.groupby(groupkey)\n",
    "groups.agg([np.mean,np.std])"
   ]
  },
  {
   "cell_type": "code",
   "execution_count": 43,
   "metadata": {},
   "outputs": [
    {
     "data": {
      "text/plain": [
       "              mean  std\n",
       "2001 -3.172066e-17  1.0\n",
       "2002 -1.881296e-15  1.0\n",
       "2003 -1.492261e-15  1.0"
      ]
     },
     "execution_count": 43,
     "metadata": {},
     "output_type": "execute_result"
    }
   ],
   "source": [
    "# normalize to the z score\n",
    "zscore = lambda x: (x - x.mean()) / x.std()\n",
    "normed = rolling.groupby(groupkey).transform(zscore)\n",
    "normed.groupby(groupkey).agg([np.mean,np.std])"
   ]
  },
  {
   "cell_type": "code",
   "execution_count": 44,
   "metadata": {},
   "outputs": [
    {
     "data": {
      "text/plain": [
       "<matplotlib.axes._subplots.AxesSubplot at 0x11e3ce710>"
      ]
     },
     "execution_count": 44,
     "metadata": {},
     "output_type": "execute_result"
    },
    {
     "data": {
      "image/png": "[encoded data removed]",
      "text/plain": [
       "<matplotlib.figure.Figure at 0x11e3c6ef0>"
      ]
     },
     "metadata": {},
     "output_type": "display_data"
    }
   ],
   "source": [
    "# plot original vs normalize\n",
    "compared = pd.DataFrame({'Original': rolling,'Normed':normed})\n",
    "compared.plot()"
   ]
  },
  {
   "cell_type": "code",
   "execution_count": 45,
   "metadata": {},
   "outputs": [
    {
     "data": {
      "text/plain": [
       "0.6485943775100401"
      ]
     },
     "execution_count": 45,
     "metadata": {},
     "output_type": "execute_result"
    }
   ],
   "source": [
    "# check the distribution # within one std\n",
    "# should be roughly 64.2%\n",
    "normed_inlstd = normed[np.abs(normed) <= 1.0].count()\n",
    "float(normed_inlstd) / len(normed)"
   ]
  },
  {
   "cell_type": "markdown",
   "metadata": {},
   "source": [
    "## Filtering Groups\n",
    "\n",
    "pandas GroupBy object provides a .filter() method, which can be used to make group level decisions on whether or not the entire group is included in the result after the combination. The function passed to .filter() should return True if the group is to be included in the result and False to exclude it."
   ]
  },
  {
   "cell_type": "code",
   "execution_count": 46,
   "metadata": {},
   "outputs": [
    {
     "data": {
      "text/plain": [
       "  Label  Values\n",
       "0     A     1.0\n",
       "1     A     2.0\n",
       "2     B     3.0\n",
       "3     B     4.0\n",
       "4     C     NaN\n",
       "5     C     8.0"
      ]
     },
     "execution_count": 46,
     "metadata": {},
     "output_type": "execute_result"
    }
   ],
   "source": [
    "# data for our examples\n",
    "df = pd.DataFrame({'Label':list(\"AABBCC\"),\n",
    "                  'Values':(1,2,3,4,np.nan,8)})\n",
    "df"
   ]
  },
  {
   "cell_type": "code",
   "execution_count": 47,
   "metadata": {},
   "outputs": [
    {
     "data": {
      "text/plain": [
       "  Label  Values\n",
       "0     A     1.0\n",
       "1     A     2.0\n",
       "2     B     3.0\n",
       "3     B     4.0"
      ]
     },
     "execution_count": 47,
     "metadata": {},
     "output_type": "execute_result"
    }
   ],
   "source": [
    "# drop groups with one or fewer non-NaN values\n",
    "f = lambda x:x.Values.count() > 1\n",
    "df.groupby('Label').filter(f)"
   ]
  },
  {
   "cell_type": "markdown",
   "metadata": {},
   "source": [
    "Notice that there is a subtle difference when it comes to using .filter() as compared to .translate(). The data passed to the function specified in the call to .filter() is passed to the columns specified in the .groupby( method."
   ]
  },
  {
   "cell_type": "code",
   "execution_count": 48,
   "metadata": {},
   "outputs": [
    {
     "data": {
      "text/plain": [
       "  Label  Values\n",
       "0     A     1.0\n",
       "1     A     2.0\n",
       "2     B     3.0\n",
       "3     B     4.0"
      ]
     },
     "execution_count": 48,
     "metadata": {},
     "output_type": "execute_result"
    }
   ],
   "source": [
    "# drop any groups with NaN values\n",
    "f = lambda x: x.Values.isnull().sum() == 0\n",
    "df.groupby('Label').filter(f)"
   ]
  },
  {
   "cell_type": "code",
   "execution_count": 50,
   "metadata": {},
   "outputs": [
    {
     "data": {
      "text/plain": [
       "  Label  Values\n",
       "0     A     1.0\n",
       "1     A     2.0\n",
       "4     C     NaN\n",
       "5     C     8.0"
      ]
     },
     "execution_count": 50,
     "metadata": {},
     "output_type": "execute_result"
    }
   ],
   "source": [
    "# select groups with a mean of 2.0 or greater\n",
    "grouped = df.groupby('Label')\n",
    "mean = grouped.mean().mean()\n",
    "f = lambda x: abs(x.Values.mean() -mean) > 2.0\n",
    "df.groupby('Label').filter(f)"
   ]
  },
  {
   "cell_type": "code",
   "execution_count": 52,
   "metadata": {},
   "outputs": [
    {
     "data": {
      "text/plain": [
       "  Label  Values\n",
       "0     A     1.0\n",
       "1     A     2.0\n",
       "2     B     3.0\n",
       "3     B     4.0\n",
       "4   NaN     NaN\n",
       "5   NaN     NaN"
      ]
     },
     "execution_count": 52,
     "metadata": {},
     "output_type": "execute_result"
    }
   ],
   "source": [
    "# replace values in a group where the # of items is <=1\n",
    "f = lambda x: x.Values.count() > 1\n",
    "df.groupby('Label').filter(f,dropna=False)"
   ]
  },
  {
   "cell_type": "markdown",
   "metadata": {},
   "source": [
    "## Discretization and Binning\n",
    "\n",
    "Discretization is the process of slicing up continuous data into a set of \"bins\" where each bin represents a range of the continous sample and items are then placed into the appropriate bin hence the term \"binning\".\n",
    "\n",
    "Discretization in pandas is performed using the pd.cut() and pd.qcut() functions."
   ]
  },
  {
   "cell_type": "code",
   "execution_count": 53,
   "metadata": {},
   "outputs": [
    {
     "data": {
      "text/plain": [
       "'-0.002863324040906651 1.008716203199891'"
      ]
     },
     "execution_count": 53,
     "metadata": {},
     "output_type": "execute_result"
    }
   ],
   "source": [
    "# generate 10000 normal random #'s\n",
    "np.random.seed(123456)\n",
    "dist = np.random.normal(size=10000)\n",
    "\n",
    "# show the mean and std\n",
    "\"{0} {1}\".format(dist.mean(),dist.std())"
   ]
  },
  {
   "cell_type": "code",
   "execution_count": 54,
   "metadata": {},
   "outputs": [
    {
     "data": {
      "text/plain": [
       "array([ 0.4691123 , -0.28286334, -1.5090585 , ...,  0.26296448,\n",
       "       -0.83377412, -0.10418135])"
      ]
     },
     "execution_count": 54,
     "metadata": {},
     "output_type": "execute_result"
    }
   ],
   "source": [
    "dist"
   ]
  },
  {
   "cell_type": "code",
   "execution_count": 55,
   "metadata": {},
   "outputs": [
    {
     "data": {
      "text/plain": [
       "[(-0.633, 0.81], (-0.633, 0.81], (-2.077, -0.633], (-2.077, -0.633], (0.81, 2.254], ..., (-2.077, -0.633], (-0.633, 0.81], (-0.633, 0.81], (-2.077, -0.633], (-0.633, 0.81]]\n",
       "Length: 10000\n",
       "Categories (5, interval[float64]): [(-3.528, -2.077] < (-2.077, -0.633] < (-0.633, 0.81] < (0.81, 2.254] < (2.254, 3.698]]"
      ]
     },
     "execution_count": 55,
     "metadata": {},
     "output_type": "execute_result"
    }
   ],
   "source": [
    "# split the data into 5 bins\n",
    "bins = pd.cut(dist,5)\n",
    "bins"
   ]
  },
  {
   "cell_type": "code",
   "execution_count": 56,
   "metadata": {},
   "outputs": [
    {
     "data": {
      "text/plain": [
       "IntervalIndex([(-3.528, -2.077], (-2.077, -0.633], (-0.633, 0.81], (0.81, 2.254], (2.254, 3.698]]\n",
       "              closed='right',\n",
       "              dtype='interval[float64]')"
      ]
     },
     "execution_count": 56,
     "metadata": {},
     "output_type": "execute_result"
    }
   ],
   "source": [
    "# show the categories in bins\n",
    "bins.categories"
   ]
  },
  {
   "cell_type": "code",
   "execution_count": 57,
   "metadata": {},
   "outputs": [
    {
     "data": {
      "text/plain": [
       "array([-3.52809473, -2.07714421, -0.63341235])"
      ]
     },
     "execution_count": 57,
     "metadata": {},
     "output_type": "execute_result"
    }
   ],
   "source": [
    "# demonstrate the math to calculate the bins\n",
    "min = dist.min()\n",
    "max = dist.max()\n",
    "delta = max - min\n",
    "iwidth = delta / 5\n",
    "extra = delta * 0.001\n",
    "intervals = np.arange(min,max*extra,iwidth)\n",
    "intervals[0] -= delta*0.001\n",
    "intervals"
   ]
  },
  {
   "cell_type": "code",
   "execution_count": 58,
   "metadata": {},
   "outputs": [
    {
     "data": {
      "text/plain": [
       "array([2, 2, 1, ..., 2, 1, 2], dtype=int8)"
      ]
     },
     "execution_count": 58,
     "metadata": {},
     "output_type": "execute_result"
    }
   ],
   "source": [
    "# codes tells us which bin each item is in\n",
    "bins.codes"
   ]
  },
  {
   "cell_type": "markdown",
   "metadata": {},
   "source": [
    "The notation for the intervals follows standard mathematical intervals where a parenthesis represents that the end is open while square brackets are closed. Closed ends include values at that exact number. By default pandas closes the right-handed side of intervals."
   ]
  },
  {
   "cell_type": "code",
   "execution_count": 59,
   "metadata": {},
   "outputs": [
    {
     "data": {
      "text/plain": [
       "IntervalIndex([[-3.521, -2.077), [-2.077, -0.633), [-0.633, 0.81), [0.81, 2.254), [2.254, 3.705)]\n",
       "              closed='left',\n",
       "              dtype='interval[float64]')"
      ]
     },
     "execution_count": 59,
     "metadata": {},
     "output_type": "execute_result"
    }
   ],
   "source": [
    "# move the closed side of the interval to the left\n",
    "pd.cut(dist,5,right=False).categories"
   ]
  },
  {
   "cell_type": "code",
   "execution_count": 60,
   "metadata": {},
   "outputs": [
    {
     "data": {
      "text/plain": [
       "array([ 7, 33, 38, 29, 42, 14, 16, 16, 18, 17, 26, 28, 44, 40, 20, 12,  8,\n",
       "       10, 36, 29, 26, 26, 11, 29, 42, 17, 41, 35, 22, 40, 24, 21, 38, 33,\n",
       "       26, 23, 16, 34, 26, 20, 18, 42, 27, 13, 37, 37, 10,  7, 10, 23])"
      ]
     },
     "execution_count": 60,
     "metadata": {},
     "output_type": "execute_result"
    }
   ],
   "source": [
    "# generate 50 ages between 6 and 45\n",
    "np.random.seed(123456)\n",
    "ages = np.random.randint(6,45,50)\n",
    "ages"
   ]
  },
  {
   "cell_type": "code",
   "execution_count": 61,
   "metadata": {},
   "outputs": [
    {
     "data": {
      "text/plain": [
       "            counts  freqs\n",
       "categories               \n",
       "(6, 12]          8   0.16\n",
       "(12, 18]         9   0.18\n",
       "(18, 35]        21   0.42\n",
       "(35, 50]        12   0.24"
      ]
     },
     "execution_count": 61,
     "metadata": {},
     "output_type": "execute_result"
    }
   ],
   "source": [
    "# cut into ranges and then get descriptive stats\n",
    "ranges = [6,12,18,35,50]\n",
    "agebins = pd.cut(ages,ranges)\n",
    "agebins.describe()"
   ]
  },
  {
   "cell_type": "code",
   "execution_count": 62,
   "metadata": {},
   "outputs": [
    {
     "data": {
      "text/plain": [
       "             counts  freqs\n",
       "categories                \n",
       "Adult            21   0.42\n",
       "Middle Aged      12   0.24\n",
       "Young Adult       9   0.18\n",
       "Youth             8   0.16"
      ]
     },
     "execution_count": 62,
     "metadata": {},
     "output_type": "execute_result"
    }
   ],
   "source": [
    "# add names for the bins\n",
    "ranges = [6,12,18,35,50]\n",
    "labels = ['Youth','Young Adult','Adult','Middle Aged']\n",
    "agebins = pd.cut(ages, ranges, labels=labels)\n",
    "agebins.describe()"
   ]
  },
  {
   "cell_type": "markdown",
   "metadata": {},
   "source": [
    "Data can be sliced according to specified quantities using pd.qcut(). This is the process of placing the values into bins such that each bin has the same number of items. To do this, the ranges of the quantities must be determined during the process so that the distribution is even."
   ]
  },
  {
   "cell_type": "code",
   "execution_count": 63,
   "metadata": {},
   "outputs": [
    {
     "data": {
      "text/plain": [
       "                  counts  freqs\n",
       "categories                     \n",
       "(-3.522, -0.861]    2000    0.2\n",
       "(-0.861, -0.241]    2000    0.2\n",
       "(-0.241, 0.261]     2000    0.2\n",
       "(0.261, 0.866]      2000    0.2\n",
       "(0.866, 3.698]      2000    0.2"
      ]
     },
     "execution_count": 63,
     "metadata": {},
     "output_type": "execute_result"
    }
   ],
   "source": [
    "# cut into quantiles\n",
    "# 5 bins with an equal quality of items\n",
    "qbin = pd.qcut(dist,5)\n",
    "# this will tell us the range of values in each quantile\n",
    "qbin.describe()"
   ]
  },
  {
   "cell_type": "code",
   "execution_count": 64,
   "metadata": {},
   "outputs": [
    {
     "data": {
      "text/plain": [
       "                    counts  freqs\n",
       "categories                       \n",
       "(-3.522, -3.131]        10  0.001\n",
       "(-3.131, -2.056]       200  0.020\n",
       "(-2.056, -1.033]      1380  0.138\n",
       "(-1.033, -0.00363]    3410  0.341\n",
       "(-0.00363, 1.011]     3410  0.341\n",
       "(1.011, 2.043]        1380  0.138\n",
       "(2.043, 3.062]         200  0.020\n",
       "(3.062, 3.698]          10  0.001"
      ]
     },
     "execution_count": 64,
     "metadata": {},
     "output_type": "execute_result"
    }
   ],
   "source": [
    "# make the quantiles at the +/- 3,2 and 1 std deviations\n",
    "quantiles = [0,0.001,0.021,0.5-0.341,0.5,0.5+0.341,1.0-0.021,1.0-0.001,1.0]\n",
    "qbin = pd.qcut(dist,quantiles)\n",
    "# this data should be a perfect normal distribution\n",
    "qbin.describe()"
   ]
  }
 ],
 "metadata": {
  "kernelspec": {
   "display_name": "Python 3",
   "language": "python",
   "name": "python3"
  },
  "language_info": {
   "codemirror_mode": {
    "name": "ipython",
    "version": 3
   },
   "file_extension": ".py",
   "mimetype": "text/x-python",
   "name": "python",
   "nbconvert_exporter": "python",
   "pygments_lexer": "ipython3",
   "version": "3.6.1"
  }
 },
 "nbformat": 4,
 "nbformat_minor": 2
}
