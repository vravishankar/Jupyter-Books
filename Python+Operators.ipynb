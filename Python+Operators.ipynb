{
 "cells": [
  {
   "cell_type": "markdown",
   "metadata": {},
   "source": [
    "# Python Operators"
   ]
  },
  {
   "cell_type": "markdown",
   "metadata": {},
   "source": [
    "#### Operators are special symbols in python that carry out arthimetic and logical operations."
   ]
  },
  {
   "cell_type": "markdown",
   "metadata": {},
   "source": [
    "Example"
   ]
  },
  {
   "cell_type": "code",
   "execution_count": 1,
   "metadata": {},
   "outputs": [
    {
     "data": {
      "text/plain": [
       "5"
      ]
     },
     "execution_count": 1,
     "metadata": {},
     "output_type": "execute_result"
    }
   ],
   "source": [
    "2 + 3"
   ]
  },
  {
   "cell_type": "markdown",
   "metadata": {},
   "source": [
    "'+ is the operator symbol, 2 and 3 are the operands"
   ]
  },
  {
   "cell_type": "markdown",
   "metadata": {},
   "source": [
    "### Operator Types"
   ]
  },
  {
   "cell_type": "markdown",
   "metadata": {},
   "source": [
    "1. Arithmetic Operators\n",
    "2. Comparison Operators\n",
    "3. Logical Operators\n",
    "4. Bitwise Operators\n",
    "5. Assignment Operators\n",
    "6. Special Operators"
   ]
  },
  {
   "cell_type": "markdown",
   "metadata": {},
   "source": [
    "#### Arithmetic Operators "
   ]
  },
  {
   "cell_type": "code",
   "execution_count": 7,
   "metadata": {},
   "outputs": [
    {
     "name": "stdout",
     "output_type": "stream",
     "text": [
      "x + y =  21\n",
      "x - y =  9\n",
      "x * y =  90\n",
      "x / y =  2.5\n",
      "x // y = 2\n",
      "x ** y =  11390625\n"
     ]
    }
   ],
   "source": [
    "x = 15\n",
    "y = 6\n",
    "\n",
    "# Addition Operator\n",
    "print('x + y = ', x + y)\n",
    "\n",
    "# Subtraction Operator\n",
    "print('x - y = ', x - y)\n",
    "\n",
    "# Multiplication Operator\n",
    "print('x * y = ', x * y)\n",
    "\n",
    "# Division Operator\n",
    "print('x / y = ', x / y) # True Division\n",
    "print('x // y =', x//y) # Class Division\n",
    "\n",
    "# Exponential Operator\n",
    "print('x ** y = ', x ** y)"
   ]
  },
  {
   "cell_type": "markdown",
   "metadata": {},
   "source": [
    "#### Comparison Operators"
   ]
  },
  {
   "cell_type": "code",
   "execution_count": 11,
   "metadata": {},
   "outputs": [
    {
     "name": "stdout",
     "output_type": "stream",
     "text": [
      "x > y =  True\n",
      "x >= y True\n",
      "x < y =  False\n",
      "x <= y False\n",
      "x == y  False\n",
      "x != y True\n"
     ]
    }
   ],
   "source": [
    "x = 12\n",
    "y = 10\n",
    "\n",
    "# Greater Than Operator\n",
    "print('x > y = ',x > y)\n",
    "\n",
    "# Greater Than or Equal To\n",
    "print('x >= y', x >= y)\n",
    "\n",
    "# Lesser Than Operator\n",
    "print('x < y = ',x < y)\n",
    "\n",
    "# Lesser Than or Equal To\n",
    "print('x <= y', x <= y)\n",
    "\n",
    "# Equal To Operator\n",
    "print('x == y ',x == y)\n",
    "\n",
    "# Not Equal To\n",
    "print('x != y', x != y)"
   ]
  },
  {
   "cell_type": "markdown",
   "metadata": {},
   "source": [
    "#### Logical Operators\n",
    "<pre>\n",
    "and - True if both operands are true\n",
    "or - True if one of the operand is true\n",
    "not - True if operand is false \n",
    "</pre>"
   ]
  },
  {
   "cell_type": "markdown",
   "metadata": {},
   "source": [
    "#### Bitwise Operators\n",
    "<pre>\n",
    "& -> Bitwise AND\n",
    "| -> Bitwise OR\n",
    "~ -> Bitwise NOT\n",
    "^ -> Bitwise XOR\n",
    ">> -> Bitwise Right Shift\n",
    "<< -> Bitwise Left Shift\n",
    "</pre>"
   ]
  },
  {
   "cell_type": "code",
   "execution_count": 6,
   "metadata": {},
   "outputs": [
    {
     "name": "stdout",
     "output_type": "stream",
     "text": [
      "x & y =  0\n",
      "x | y =  14\n",
      "~ x =  -11\n",
      "x ^ y =  14\n",
      "x >> y =  0\n",
      "x << y =  160\n"
     ]
    }
   ],
   "source": [
    "x = 10\n",
    "y = 4\n",
    "\n",
    "# Bitwise AND\n",
    "print('x & y = ', x & y)\n",
    "# Bitwise OR\n",
    "print('x | y = ', x | y)\n",
    "# Bitwise NOT\n",
    "print('~ x = ', ~ x)\n",
    "# Bitwise XOR\n",
    "print('x ^ y = ', x ^ y)\n",
    "# Right shift\n",
    "print('x >> y = ', x >> y)\n",
    "# Left Shift\n",
    "print('x << y = ', x << y)"
   ]
  },
  {
   "cell_type": "markdown",
   "metadata": {},
   "source": [
    "#### Assignment Operators"
   ]
  },
  {
   "cell_type": "code",
   "execution_count": 12,
   "metadata": {},
   "outputs": [
    {
     "name": "stdout",
     "output_type": "stream",
     "text": [
      "5\n",
      "10\n",
      "5\n",
      "25\n",
      "5.0\n",
      "2.0\n",
      "0.0\n",
      "100\n"
     ]
    }
   ],
   "source": [
    "a = 5\n",
    "print(a)\n",
    "a += 5 # a = a + 5\n",
    "print(a)\n",
    "a -= 5 # a = a - 5 \n",
    "print(a)\n",
    "a *= 5 # a = a * 5\n",
    "print(a)\n",
    "a /= 5 # a = a / 5\n",
    "print(a)\n",
    "a //= 2 # a = a // 2\n",
    "print(a)\n",
    "a %= 1 # a = a % 1\n",
    "print(a)\n",
    "a = 10\n",
    "a **= 2 # a = a ** 2\n",
    "print(a)"
   ]
  },
  {
   "cell_type": "markdown",
   "metadata": {},
   "source": [
    "#### Special Operators"
   ]
  },
  {
   "cell_type": "markdown",
   "metadata": {},
   "source": [
    "###### Identity Operators"
   ]
  },
  {
   "cell_type": "markdown",
   "metadata": {},
   "source": [
    " <pre>\n",
    " is - True if the operands are identical\n",
    " is not - True if the operands are not identical\n",
    " </pre>"
   ]
  },
  {
   "cell_type": "code",
   "execution_count": 16,
   "metadata": {},
   "outputs": [
    {
     "name": "stdout",
     "output_type": "stream",
     "text": [
      "x1 is y1 =  True\n",
      "x1 is y2 =  False\n",
      "x3 is not y3 =  True\n"
     ]
    }
   ],
   "source": [
    "x1 = 2\n",
    "y1 = 2\n",
    "x2 = 'Hello'\n",
    "y2 = \"Hello\"\n",
    "x3 = [1,2,3]\n",
    "y3 = (1,2,3)\n",
    "\n",
    "print('x1 is y1 = ', x1 is y1)\n",
    "print('x1 is y2 = ', x1 is y2)\n",
    "print('x3 is not y3 = ', x3 is not y3)"
   ]
  },
  {
   "cell_type": "markdown",
   "metadata": {},
   "source": [
    "###### Membership Operators\n",
    "<pre>\n",
    "    in - True if value / variable is found in sequence\n",
    "    not in - True if value / variable is not found in the sequence\n",
    "</pre>"
   ]
  },
  {
   "cell_type": "code",
   "execution_count": 17,
   "metadata": {},
   "outputs": [
    {
     "name": "stdout",
     "output_type": "stream",
     "text": [
      "'H' in x  True\n",
      "hello not in x  True\n",
      "1 in y =  True\n",
      "a in y =  False\n"
     ]
    }
   ],
   "source": [
    "x = 'Hello World'\n",
    "y = {1:'a',2:'b'}\n",
    "\n",
    "print(\"'H' in x \", 'H' in x)\n",
    "print('hello not in x ','hello' not in x)\n",
    "print('1 in y = ',1 in y)\n",
    "print('a in y = ',a in y)"
   ]
  }
 ],
 "metadata": {
  "kernelspec": {
   "display_name": "Python 3",
   "language": "python",
   "name": "python3"
  },
  "language_info": {
   "codemirror_mode": {
    "name": "ipython",
    "version": 3
   },
   "file_extension": ".py",
   "mimetype": "text/x-python",
   "name": "python",
   "nbconvert_exporter": "python",
   "pygments_lexer": "ipython3",
   "version": "3.6.2"
  }
 },
 "nbformat": 4,
 "nbformat_minor": 2
}
