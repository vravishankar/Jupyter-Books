{
 "cells": [
  {
   "cell_type": "markdown",
   "metadata": {},
   "source": [
    "# Dictionaries"
   ]
  },
  {
   "cell_type": "markdown",
   "metadata": {},
   "source": [
    "Dictionaries are unordered set of key value pairs separated by commas. Unlike Lists (which are sequence based) dictionary elements are not indexed but can be retrieved using the keys."
   ]
  },
  {
   "cell_type": "markdown",
   "metadata": {},
   "source": [
    "### Creating Dictionaries"
   ]
  },
  {
   "cell_type": "code",
   "execution_count": 31,
   "metadata": {},
   "outputs": [
    {
     "data": {
      "text/plain": [
       "{'id': 1, 'name': 'Hello'}"
      ]
     },
     "execution_count": 31,
     "metadata": {},
     "output_type": "execute_result"
    }
   ],
   "source": [
    "# Starting with Empty Dictionary\n",
    "dict1 = {}\n",
    "dict1['id'] = 1\n",
    "dict1['name'] = 'Hello'\n",
    "dict1"
   ]
  },
  {
   "cell_type": "code",
   "execution_count": 32,
   "metadata": {},
   "outputs": [
    {
     "data": {
      "text/plain": [
       "{'id': 2, 'name': 'John'}"
      ]
     },
     "execution_count": 32,
     "metadata": {},
     "output_type": "execute_result"
    }
   ],
   "source": [
    "# Direct Method\n",
    "dict2 = {'id':2,'name':'John'}\n",
    "dict2"
   ]
  },
  {
   "cell_type": "code",
   "execution_count": 29,
   "metadata": {},
   "outputs": [
    {
     "data": {
      "text/plain": [
       "{'id': 1, 'name': 'Donald'}"
      ]
     },
     "execution_count": 29,
     "metadata": {},
     "output_type": "execute_result"
    }
   ],
   "source": [
    "# Using List of Tuples\n",
    "dict3 = dict([('id',1),('name','Donald')])\n",
    "dict3"
   ]
  },
  {
   "cell_type": "code",
   "execution_count": 30,
   "metadata": {},
   "outputs": [
    {
     "data": {
      "text/plain": [
       "{'id': 1, 'name': 'Tim'}"
      ]
     },
     "execution_count": 30,
     "metadata": {},
     "output_type": "execute_result"
    }
   ],
   "source": [
    "# Using Key-Value arguments\n",
    "dict4 = dict(id=1,name='Tim')\n",
    "dict4"
   ]
  },
  {
   "cell_type": "markdown",
   "metadata": {},
   "source": [
    "### Adding, Editing, Removing Elements "
   ]
  },
  {
   "cell_type": "code",
   "execution_count": 10,
   "metadata": {},
   "outputs": [
    {
     "data": {
      "text/plain": [
       "{'id': 1, 'name': 'Tim', 'salary': 71500.75}"
      ]
     },
     "execution_count": 10,
     "metadata": {},
     "output_type": "execute_result"
    }
   ],
   "source": [
    "# adding a key/value pair\n",
    "dict4['salary'] = 71500.75\n",
    "dict4"
   ]
  },
  {
   "cell_type": "code",
   "execution_count": 11,
   "metadata": {},
   "outputs": [
    {
     "data": {
      "text/plain": [
       "{'id': 1, 'name': 'Tim'}"
      ]
     },
     "execution_count": 11,
     "metadata": {},
     "output_type": "execute_result"
    }
   ],
   "source": [
    "# removing a key\n",
    "del dict4['salary']\n",
    "dict4"
   ]
  },
  {
   "cell_type": "code",
   "execution_count": 12,
   "metadata": {},
   "outputs": [
    {
     "data": {
      "text/plain": [
       "{'id': 1, 'name': 'Tim Billy'}"
      ]
     },
     "execution_count": 12,
     "metadata": {},
     "output_type": "execute_result"
    }
   ],
   "source": [
    "# updating a key\n",
    "dict4['name'] = 'Tim Billy'\n",
    "dict4"
   ]
  },
  {
   "cell_type": "code",
   "execution_count": 54,
   "metadata": {},
   "outputs": [
    {
     "data": {
      "text/plain": [
       "2"
      ]
     },
     "execution_count": 54,
     "metadata": {},
     "output_type": "execute_result"
    }
   ],
   "source": [
    "# count the number of elements\n",
    "len(dict4)"
   ]
  },
  {
   "cell_type": "markdown",
   "metadata": {},
   "source": [
    "### Checking for Keys "
   ]
  },
  {
   "cell_type": "code",
   "execution_count": 13,
   "metadata": {},
   "outputs": [
    {
     "name": "stdout",
     "output_type": "stream",
     "text": [
      "0\n"
     ]
    }
   ],
   "source": [
    "# Check if salary key exists\n",
    "if 'salary' in dict4:\n",
    "    print(dict4['salary'])\n",
    "else:\n",
    "    print(0)"
   ]
  },
  {
   "cell_type": "code",
   "execution_count": 36,
   "metadata": {},
   "outputs": [
    {
     "name": "stdout",
     "output_type": "stream",
     "text": [
      "Tim\n",
      "None\n"
     ]
    }
   ],
   "source": [
    "# Better way of checking\n",
    "print(dict4.get('name'))\n",
    "print(dict4.get('salary')) # returns None if key is not present"
   ]
  },
  {
   "cell_type": "markdown",
   "metadata": {},
   "source": [
    "### Looping Techniques "
   ]
  },
  {
   "cell_type": "code",
   "execution_count": 18,
   "metadata": {},
   "outputs": [
    {
     "name": "stdout",
     "output_type": "stream",
     "text": [
      "1\n",
      "Tim Billy\n"
     ]
    }
   ],
   "source": [
    "# Default Method\n",
    "for key in dict4:\n",
    "    print(dict4[key])"
   ]
  },
  {
   "cell_type": "code",
   "execution_count": 19,
   "metadata": {},
   "outputs": [
    {
     "name": "stdout",
     "output_type": "stream",
     "text": [
      "1\n",
      "Tim Billy\n"
     ]
    }
   ],
   "source": [
    "# Using Keys Method\n",
    "for key in dict4.keys():\n",
    "    print(dict4[key])"
   ]
  },
  {
   "cell_type": "code",
   "execution_count": 20,
   "metadata": {},
   "outputs": [
    {
     "name": "stdout",
     "output_type": "stream",
     "text": [
      "1\n",
      "Tim Billy\n"
     ]
    }
   ],
   "source": [
    "# Using Values Method\n",
    "for value in dict4.values():\n",
    "    print(value)"
   ]
  },
  {
   "cell_type": "code",
   "execution_count": 21,
   "metadata": {},
   "outputs": [
    {
     "name": "stdout",
     "output_type": "stream",
     "text": [
      "id:1\n",
      "name:Tim Billy\n"
     ]
    }
   ],
   "source": [
    "# Using Items Method\n",
    "for k,v in dict4.items():\n",
    "    print('{}:{}'.format(k,v))"
   ]
  },
  {
   "cell_type": "markdown",
   "metadata": {},
   "source": [
    "### Dictionary Comprehensions"
   ]
  },
  {
   "cell_type": "code",
   "execution_count": 22,
   "metadata": {},
   "outputs": [
    {
     "data": {
      "text/plain": [
       "{0: 0, 1: 1, 2: 4, 3: 9, 4: 16, 5: 25, 6: 36, 7: 49, 8: 64, 9: 81}"
      ]
     },
     "execution_count": 22,
     "metadata": {},
     "output_type": "execute_result"
    }
   ],
   "source": [
    "{x: x**2 for x in range(10)}"
   ]
  },
  {
   "cell_type": "markdown",
   "metadata": {},
   "source": [
    "### Dictionary Methods "
   ]
  },
  {
   "cell_type": "code",
   "execution_count": 44,
   "metadata": {},
   "outputs": [
    {
     "name": "stdout",
     "output_type": "stream",
     "text": [
      "{'id': 1, 'name': 'Tim'}\n",
      "{'id': 1, 'name': 'Billy John'}\n"
     ]
    }
   ],
   "source": [
    "# copy\n",
    "dict5 = dict4.copy()\n",
    "dict5['name']='Billy John'\n",
    "print(dict4)\n",
    "print(dict5)"
   ]
  },
  {
   "cell_type": "code",
   "execution_count": 42,
   "metadata": {},
   "outputs": [
    {
     "data": {
      "text/plain": [
       "{'Frank': {'Perl', 'Python'}, 'Guido': {'Python'}, 'Monica': {'C', 'C++'}}"
      ]
     },
     "execution_count": 42,
     "metadata": {},
     "output_type": "execute_result"
    }
   ],
   "source": [
    "# merge 2 dictionaries\n",
    "knowledge = {\"Frank\": {\"Perl\"}, \"Monica\":{\"C\",\"C++\"}}\n",
    "knowledge2 = {\"Guido\":{\"Python\"}, \"Frank\":{\"Perl\", \"Python\"}}\n",
    "knowledge.update(knowledge2)\n",
    "knowledge"
   ]
  },
  {
   "cell_type": "code",
   "execution_count": 41,
   "metadata": {},
   "outputs": [
    {
     "name": "stdout",
     "output_type": "stream",
     "text": [
      "{'id': 1, 'name': 'Hello'}\n",
      "{}\n"
     ]
    }
   ],
   "source": [
    "# remove all elements from the dictionary\n",
    "\n",
    "print(dict1)\n",
    "dict1.clear()\n",
    "print(dict1) # pls note dictionary is not deleted but only emptied"
   ]
  },
  {
   "cell_type": "markdown",
   "metadata": {},
   "source": [
    "### Lists to Dictionaries "
   ]
  },
  {
   "cell_type": "code",
   "execution_count": 51,
   "metadata": {},
   "outputs": [
    {
     "name": "stdout",
     "output_type": "stream",
     "text": [
      "{'United States': 'Washington', 'England': 'London', 'France': 'Paris', 'India': 'New Delhi'}\n",
      "[('United States', 'Washington'), ('England', 'London'), ('France', 'Paris'), ('India', 'New Delhi')]\n",
      "{'United States': 'Washington', 'England': 'London', 'France': 'Paris', 'India': 'New Delhi'}\n"
     ]
    }
   ],
   "source": [
    "countries = ['United States','England','France','India']\n",
    "capitals = ['Washington','London','Paris','New Delhi']\n",
    "country_capital_zip = zip(countries,capitals) # returns list iterator\n",
    "print(dict(country_capital_zip))\n",
    "country_capitals = list(zip(countries,capitals))\n",
    "print(country_capitals)\n",
    "print(dict(country_capitals))"
   ]
  },
  {
   "cell_type": "code",
   "execution_count": 52,
   "metadata": {},
   "outputs": [
    {
     "name": "stdout",
     "output_type": "stream",
     "text": [
      "{'pizza': 'Italy', 'sauerkraut': 'Germany', 'paella': 'Spain', 'hamburger': 'USA'}\n"
     ]
    }
   ],
   "source": [
    "# combined to single step\n",
    "country_specialities_dict = dict(list(zip([\"pizza\", \"sauerkraut\", \"paella\", \"hamburger\"], [\"Italy\", \"Germany\", \"Spain\", \"USA\",\" Switzerland\"])))\n",
    "print(country_specialities_dict)"
   ]
  },
  {
   "cell_type": "markdown",
   "metadata": {},
   "source": [
    "### Dictionary with other Data Types"
   ]
  },
  {
   "cell_type": "code",
   "execution_count": 4,
   "metadata": {},
   "outputs": [
    {
     "name": "stdout",
     "output_type": "stream",
     "text": [
      "['Blue', 'Red']\n",
      "alex@example.com\n",
      "('Alexie', 'A-man')\n"
     ]
    }
   ],
   "source": [
    "dict6 = {'name':'Alex','favorite_colors':['Blue','Red'],'contacts':{'email':'alex@example.com','phone':'123-456-7890'},'nick_names':('Alexie','A-man')}\n",
    "dict6\n",
    "print(dict6['favorite_colors'])\n",
    "print(dict6['contacts']['email'])\n",
    "print(dict6['nick_names'])"
   ]
  }
 ],
 "metadata": {
  "kernelspec": {
   "display_name": "Python 3",
   "language": "python",
   "name": "python3"
  },
  "language_info": {
   "codemirror_mode": {
    "name": "ipython",
    "version": 3
   },
   "file_extension": ".py",
   "mimetype": "text/x-python",
   "name": "python",
   "nbconvert_exporter": "python",
   "pygments_lexer": "ipython3",
   "version": "3.6.2"
  }
 },
 "nbformat": 4,
 "nbformat_minor": 2
}
