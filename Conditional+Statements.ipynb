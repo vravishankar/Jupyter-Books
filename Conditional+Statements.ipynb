{
 "cells": [
  {
   "cell_type": "markdown",
   "metadata": {},
   "source": [
    "# Python Statements"
   ]
  },
  {
   "cell_type": "markdown",
   "metadata": {},
   "source": [
    "## if..elif..else"
   ]
  },
  {
   "cell_type": "markdown",
   "metadata": {},
   "source": [
    "The \"if..elif..else\" statement is used for decision making based on some conditions."
   ]
  },
  {
   "cell_type": "markdown",
   "metadata": {},
   "source": [
    "#### if statement"
   ]
  },
  {
   "cell_type": "markdown",
   "metadata": {},
   "source": [
    "The syntax of \"if\" statement is\n",
    "\n",
    "```python\n",
    "if test expression:\n",
    "    statement(2)\n",
    "```"
   ]
  },
  {
   "cell_type": "code",
   "execution_count": 1,
   "metadata": {},
   "outputs": [
    {
     "name": "stdout",
     "output_type": "stream",
     "text": [
      "1 is positive number\n"
     ]
    }
   ],
   "source": [
    "x = 1\n",
    "if x > 0:\n",
    "    print(x,\"is positive number\")"
   ]
  },
  {
   "cell_type": "markdown",
   "metadata": {},
   "source": [
    "Pls note the indentation is important in Python. All the statements that is part of if statement must be indented."
   ]
  },
  {
   "cell_type": "code",
   "execution_count": 2,
   "metadata": {},
   "outputs": [
    {
     "name": "stdout",
     "output_type": "stream",
     "text": [
      "1 is positive number\n",
      "Outside of if condition\n"
     ]
    }
   ],
   "source": [
    "x = 1\n",
    "if x > 0:\n",
    "    print(x,\"is positive number\")\n",
    "print('Outside of if condition')"
   ]
  },
  {
   "cell_type": "markdown",
   "metadata": {},
   "source": [
    "#### if..else.. statement\n",
    "\n",
    "```python\n",
    "if test expression:\n",
    "    # body of if\n",
    "else:\n",
    "    # body of else\n",
    "```"
   ]
  },
  {
   "cell_type": "code",
   "execution_count": 3,
   "metadata": {},
   "outputs": [
    {
     "name": "stdout",
     "output_type": "stream",
     "text": [
      "1 is positive number\n",
      "End of if..else..\n"
     ]
    }
   ],
   "source": [
    "x = 1\n",
    "if x >= 0:\n",
    "    print(x,\"is positive number\")\n",
    "else:\n",
    "    print(x,\"is negative number\")\n",
    "    \n",
    "print('End of if..else..')"
   ]
  },
  {
   "cell_type": "markdown",
   "metadata": {},
   "source": [
    "#### if..elif..else statement\n",
    "\n",
    "```python\n",
    "if test expression:\n",
    "    # body of if\n",
    "elif test expression:\n",
    "    # body of elif\n",
    "else\n",
    "    # body of else\n",
    "```"
   ]
  },
  {
   "cell_type": "code",
   "execution_count": 4,
   "metadata": {},
   "outputs": [
    {
     "name": "stdout",
     "output_type": "stream",
     "text": [
      "-5 is negative\n",
      "End of if statement\n"
     ]
    }
   ],
   "source": [
    "x = -5\n",
    "if x == 0:\n",
    "    print(x,\"is zero\")\n",
    "elif x > 0:\n",
    "    print(x,\"is positive\")\n",
    "else:\n",
    "    print(x,\"is negative\")\n",
    "    \n",
    "    \n",
    "print('End of if statement')"
   ]
  },
  {
   "cell_type": "markdown",
   "metadata": {},
   "source": [
    "#### Nested if "
   ]
  },
  {
   "cell_type": "code",
   "execution_count": 5,
   "metadata": {},
   "outputs": [
    {
     "name": "stdout",
     "output_type": "stream",
     "text": [
      "8 is lesser than 10\n",
      "End of if statement\n"
     ]
    }
   ],
   "source": [
    "x = 8\n",
    "if x == 0:\n",
    "    print(x,\"is zero\")\n",
    "elif x > 0:\n",
    "    if x == 10:\n",
    "        print(x,\"is equal to 10\")\n",
    "    elif x > 10:\n",
    "        print(x,\"is greater than 10\")\n",
    "    else:\n",
    "        print(x,\"is lesser than 10\")\n",
    "else:\n",
    "    print(x,\"is negative\")\n",
    "    \n",
    "    \n",
    "print('End of if statement')"
   ]
  },
  {
   "cell_type": "markdown",
   "metadata": {},
   "source": [
    "## for loop\n",
    "\n",
    "The for loop statement is used to iterate over a sequence data type or other iterable objects. Iterating over a sequence is called traversal.\n",
    "\n",
    "Loop continues until the condition is met or the last item in the sequence is processed.\n",
    "\n",
    "```python\n",
    "for val in seq:\n",
    "    # body of for\n",
    "```"
   ]
  },
  {
   "cell_type": "code",
   "execution_count": 6,
   "metadata": {},
   "outputs": [
    {
     "name": "stdout",
     "output_type": "stream",
     "text": [
      "20\n"
     ]
    }
   ],
   "source": [
    "sum = 0             # variable to hold the sum\n",
    "nums = [1,2,3,6,8]  # list of numbers\n",
    "\n",
    "for num in nums:\n",
    "    sum += num\n",
    "    \n",
    "print(sum)"
   ]
  },
  {
   "cell_type": "markdown",
   "metadata": {},
   "source": [
    "#### for loop with else"
   ]
  },
  {
   "cell_type": "code",
   "execution_count": 7,
   "metadata": {},
   "outputs": [
    {
     "name": "stdout",
     "output_type": "stream",
     "text": [
      "0\n",
      "1\n",
      "5\n",
      "No more digits to print\n"
     ]
    }
   ],
   "source": [
    "digits = [0,1,5]\n",
    "\n",
    "for i in digits:\n",
    "    print(i)\n",
    "else:\n",
    "    print('No more digits to print')"
   ]
  },
  {
   "cell_type": "markdown",
   "metadata": {},
   "source": [
    "## Range Function"
   ]
  },
  {
   "cell_type": "markdown",
   "metadata": {},
   "source": [
    "Range function is used to generate sequence of numbers. For example range(5) will generate 5 numbers starting from 0 to 4.\n",
    "\n",
    "The syntax for range function is: range(start,stop,increment)"
   ]
  },
  {
   "cell_type": "code",
   "execution_count": 8,
   "metadata": {},
   "outputs": [
    {
     "name": "stdout",
     "output_type": "stream",
     "text": [
      "range(0, 10)\n",
      "[1, 2, 3, 4, 5, 6, 7, 8, 9, 10]\n",
      "[2, 3, 4, 5, 6, 7]\n",
      "[0, 2, 4, 6, 8]\n"
     ]
    }
   ],
   "source": [
    "# range function with required sequence of numbers\n",
    "print(range(10)) # this will not print sequence of numbers but generated on the fly.\n",
    "\n",
    "# range function to start with 1 to 10 (note the stop argument is always treated as stop -1)\n",
    "print(list(range(1,11)))\n",
    "\n",
    "# range function different start and stop\n",
    "print(list(range(2,8)))\n",
    "\n",
    "# range function with start,stop and increment parameters\n",
    "print(list(range(0,10,2)))"
   ]
  },
  {
   "cell_type": "code",
   "execution_count": 9,
   "metadata": {},
   "outputs": [
    {
     "name": "stdout",
     "output_type": "stream",
     "text": [
      "I like Blue color\n",
      "I like White color\n",
      "I like Green color\n"
     ]
    }
   ],
   "source": [
    "colors = ['Blue','White','Green']\n",
    "for i in range(len(colors)):\n",
    "    print('I like',colors[i],'color')"
   ]
  },
  {
   "cell_type": "markdown",
   "metadata": {},
   "source": [
    "# While "
   ]
  },
  {
   "cell_type": "markdown",
   "metadata": {},
   "source": [
    "While loop is used to iterate over a block of code as long as the test expression is true. Please note in python any non-zero value is True and zero is interpreted as False.\n",
    "\n",
    "Mainly used when we do not know how many times to iterate\n",
    "\n",
    "```python\n",
    "while test_expression:\n",
    "    # body of while\n",
    "```"
   ]
  },
  {
   "cell_type": "code",
   "execution_count": 14,
   "metadata": {},
   "outputs": [
    {
     "name": "stdout",
     "output_type": "stream",
     "text": [
      "50\n"
     ]
    }
   ],
   "source": [
    "sum = 0\n",
    "i = 1\n",
    "while i <= 10:\n",
    "    sum += c\n",
    "    i += 1\n",
    "    \n",
    "print(sum)"
   ]
  },
  {
   "cell_type": "code",
   "execution_count": 11,
   "metadata": {},
   "outputs": [
    {
     "name": "stdout",
     "output_type": "stream",
     "text": [
      "15\n"
     ]
    }
   ],
   "source": [
    "n = 5\n",
    "sum = 0\n",
    "i = 1\n",
    "while i <= n:\n",
    "    sum += i\n",
    "    i += 1\n",
    "    \n",
    "print(sum)"
   ]
  },
  {
   "cell_type": "markdown",
   "metadata": {},
   "source": [
    "### While...else\n",
    "\n",
    "The \"else\" part is executed when the while condition evaluates to false.\n",
    "\n",
    "The \"else\" part occurs if no break occurs and the condition is false."
   ]
  },
  {
   "cell_type": "code",
   "execution_count": 15,
   "metadata": {},
   "outputs": [
    {
     "name": "stdout",
     "output_type": "stream",
     "text": [
      "Inside Loop\n",
      "Inside Loop\n",
      "Inside Loop\n",
      "Inside Else\n"
     ]
    }
   ],
   "source": [
    "counter = 0\n",
    "while counter < 3:\n",
    "    counter += 1\n",
    "    print('Inside Loop')\n",
    "else:\n",
    "    print('Inside Else')"
   ]
  },
  {
   "cell_type": "markdown",
   "metadata": {},
   "source": [
    "# Break Statement\n",
    "\n",
    "The break statement terminates the loop containing it. The control of the program flows to the statement immediately below the loop."
   ]
  },
  {
   "cell_type": "code",
   "execution_count": 17,
   "metadata": {},
   "outputs": [
    {
     "name": "stdout",
     "output_type": "stream",
     "text": [
      "s\n",
      "t\n",
      "r\n",
      "The End\n"
     ]
    }
   ],
   "source": [
    "for val in \"string\":\n",
    "    if val == \"i\":\n",
    "        break\n",
    "    print(val)  \n",
    "        \n",
    "print(\"The End\")"
   ]
  },
  {
   "cell_type": "markdown",
   "metadata": {},
   "source": [
    "# Continue Statement\n",
    "\n",
    "The continue statement is used to skip the rest of the code inside a loop for the current iteration only. Loop does not terminate but continues on with next iteration."
   ]
  },
  {
   "cell_type": "code",
   "execution_count": 18,
   "metadata": {},
   "outputs": [
    {
     "name": "stdout",
     "output_type": "stream",
     "text": [
      "s\n",
      "t\n",
      "r\n",
      "n\n",
      "g\n",
      "End Loop\n"
     ]
    }
   ],
   "source": [
    "for val in \"string\":\n",
    "    if val == \"i\":\n",
    "        continue\n",
    "    print(val)\n",
    "    \n",
    "print(\"End Loop\")"
   ]
  },
  {
   "cell_type": "markdown",
   "metadata": {},
   "source": [
    "# Pass Statement\n",
    "\n",
    "Pass statement is generally used as a placeholder for loop or function or classes as they cannot have empty body. So \"Pass\" is used to construct the body that does nothing.\n",
    "\n",
    "The difference between comment (#) and \"pass\" is that python interpreter ignores the comments while it treat \"pass\" as no operation."
   ]
  },
  {
   "cell_type": "code",
   "execution_count": 19,
   "metadata": {
    "collapsed": true
   },
   "outputs": [],
   "source": [
    "def dummy():\n",
    "    pass\n",
    "\n",
    "dummy()"
   ]
  },
  {
   "cell_type": "code",
   "execution_count": 20,
   "metadata": {
    "collapsed": true
   },
   "outputs": [],
   "source": [
    "for i in range(3):\n",
    "    pass"
   ]
  }
 ],
 "metadata": {
  "kernelspec": {
   "display_name": "Python 3",
   "language": "python",
   "name": "python3"
  },
  "language_info": {
   "codemirror_mode": {
    "name": "ipython",
    "version": 3
   },
   "file_extension": ".py",
   "mimetype": "text/x-python",
   "name": "python",
   "nbconvert_exporter": "python",
   "pygments_lexer": "ipython3",
   "version": "3.6.1"
  }
 },
 "nbformat": 4,
 "nbformat_minor": 2
}
