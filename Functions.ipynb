{
 "cells": [
  {
   "cell_type": "markdown",
   "metadata": {},
   "source": [
    "# Functions"
   ]
  },
  {
   "cell_type": "markdown",
   "metadata": {},
   "source": [
    "* Function is a group of related statements that perform a specific task.\n",
    "* Function help break large programs into smaller and modular chunks\n",
    "* Function makes the code more organised and easy to manage\n",
    "* Function avoids repetition and there by promotes code reusability\n",
    "\n",
    "#### Two types of functions\n",
    "1. Built-In Functions\n",
    "2. User Defined Functions"
   ]
  },
  {
   "cell_type": "markdown",
   "metadata": {},
   "source": [
    "### Function Syntax\n",
    "```python\n",
    "def function_name(arguments):\n",
    "    '''This is the docstring for the function'''\n",
    "    # note the indentation, anything inside the function must be indented\n",
    "    # function code goes here\n",
    "    ...\n",
    "    return\n",
    "    \n",
    "# calling the function\n",
    "function_name(arguments)\n",
    "```"
   ]
  },
  {
   "cell_type": "markdown",
   "metadata": {},
   "source": [
    "#### Example 1"
   ]
  },
  {
   "cell_type": "code",
   "execution_count": 1,
   "metadata": {},
   "outputs": [
    {
     "name": "stdout",
     "output_type": "stream",
     "text": [
      "Hello World\n"
     ]
    }
   ],
   "source": [
    "# Simple Function\n",
    "def greet():\n",
    "    '''Simple Greet Function'''\n",
    "    print('Hello World')\n",
    "    \n",
    "greet()"
   ]
  },
  {
   "cell_type": "markdown",
   "metadata": {},
   "source": [
    "#### Example 2"
   ]
  },
  {
   "cell_type": "code",
   "execution_count": 4,
   "metadata": {},
   "outputs": [
    {
     "name": "stdout",
     "output_type": "stream",
     "text": [
      "Hello  John\n"
     ]
    }
   ],
   "source": [
    "# Function with arguments\n",
    "def greet(name):\n",
    "    '''Simple Greet Function with arguments'''\n",
    "    print('Hello ', name)\n",
    "    \n",
    "greet('John')"
   ]
  },
  {
   "cell_type": "code",
   "execution_count": 6,
   "metadata": {},
   "outputs": [
    {
     "name": "stdout",
     "output_type": "stream",
     "text": [
      "Simple Greet Function with arguments\n"
     ]
    }
   ],
   "source": [
    "# printing the doc string\n",
    "print(greet.__doc__)"
   ]
  },
  {
   "cell_type": "markdown",
   "metadata": {},
   "source": [
    "#### Example 3"
   ]
  },
  {
   "cell_type": "code",
   "execution_count": 9,
   "metadata": {},
   "outputs": [
    {
     "name": "stdout",
     "output_type": "stream",
     "text": [
      "5.0\n"
     ]
    }
   ],
   "source": [
    "# Function with return statement\n",
    "def add_numbers(num1,num2):\n",
    "    return num1 + num2\n",
    "\n",
    "print(add_numbers(2,3.0))"
   ]
  },
  {
   "cell_type": "code",
   "execution_count": 11,
   "metadata": {},
   "outputs": [
    {
     "name": "stdout",
     "output_type": "stream",
     "text": [
      "HelloWorld\n"
     ]
    }
   ],
   "source": [
    "# Since arguments are not strongly typed you can even pass a string\n",
    "print(add_numbers('Hello','World'))"
   ]
  },
  {
   "cell_type": "markdown",
   "metadata": {},
   "source": [
    "### Scope and Lifetime of Variables\n",
    "Variables in python has local scope which means parameters and variables defined inside the function is not visible from outside.\n",
    "\n",
    "Lifetime of a variable is how long the variable exists in the memory. Lifetime of variables defined inside the function exists as long as the function executes. They are destroyed once the function is returned."
   ]
  },
  {
   "cell_type": "code",
   "execution_count": 14,
   "metadata": {},
   "outputs": [
    {
     "name": "stdout",
     "output_type": "stream",
     "text": [
      "Value inside the function  10\n",
      "Value outside the function 10\n"
     ]
    }
   ],
   "source": [
    "def myfunc():\n",
    "    x = 5\n",
    "    print('Value inside the function ',x)\n",
    "    \n",
    "x = 10\n",
    "myfunc()\n",
    "print('Value outside the function',x)"
   ]
  },
  {
   "cell_type": "markdown",
   "metadata": {},
   "source": [
    "Variables defined outside the function are visible from inside which means they have a __global__ scope."
   ]
  },
  {
   "cell_type": "code",
   "execution_count": 15,
   "metadata": {},
   "outputs": [
    {
     "name": "stdout",
     "output_type": "stream",
     "text": [
      "Value inside the function  10\n",
      "Value outside the function 10\n"
     ]
    }
   ],
   "source": [
    "def myfunc():\n",
    "    #x = 5\n",
    "    print('Value inside the function ',x)\n",
    "    \n",
    "x = 10\n",
    "myfunc()\n",
    "print('Value outside the function',x)"
   ]
  },
  {
   "cell_type": "markdown",
   "metadata": {},
   "source": [
    "##### Global Variable\n",
    "Variables declared inside the function are not available outside. The following example will generate an error."
   ]
  },
  {
   "cell_type": "code",
   "execution_count": 23,
   "metadata": {},
   "outputs": [
    {
     "name": "stdout",
     "output_type": "stream",
     "text": [
      "Value inside the function  5\n"
     ]
    },
    {
     "ename": "NameError",
     "evalue": "name 'y' is not defined",
     "output_type": "error",
     "traceback": [
      "\u001b[0;31m---------------------------------------------------------------------------\u001b[0m",
      "\u001b[0;31mNameError\u001b[0m                                 Traceback (most recent call last)",
      "\u001b[0;32m<ipython-input-23-e6b4cb9d525a>\u001b[0m in \u001b[0;36m<module>\u001b[0;34m()\u001b[0m\n\u001b[1;32m      4\u001b[0m \u001b[0;34m\u001b[0m\u001b[0m\n\u001b[1;32m      5\u001b[0m \u001b[0mmyfunc\u001b[0m\u001b[0;34m(\u001b[0m\u001b[0;34m)\u001b[0m\u001b[0;34m\u001b[0m\u001b[0m\n\u001b[0;32m----> 6\u001b[0;31m \u001b[0mprint\u001b[0m\u001b[0;34m(\u001b[0m\u001b[0;34m'Value outside the function'\u001b[0m\u001b[0;34m,\u001b[0m\u001b[0my\u001b[0m\u001b[0;34m)\u001b[0m\u001b[0;34m\u001b[0m\u001b[0m\n\u001b[0m",
      "\u001b[0;31mNameError\u001b[0m: name 'y' is not defined"
     ]
    }
   ],
   "source": [
    "def myfunc():\n",
    "    y = 5\n",
    "    print('Value inside the function ',y)\n",
    "    \n",
    "myfunc()\n",
    "print('Value outside the function',y)"
   ]
  },
  {
   "cell_type": "markdown",
   "metadata": {},
   "source": [
    "You have to use the global keyword for variables if you want to use those variables declared outside the function inside the function"
   ]
  },
  {
   "cell_type": "code",
   "execution_count": 24,
   "metadata": {},
   "outputs": [
    {
     "name": "stdout",
     "output_type": "stream",
     "text": [
      "Value inside the function  5\n",
      "Value outside the function 5\n"
     ]
    }
   ],
   "source": [
    "def myfunc():\n",
    "    global z\n",
    "    z = 5\n",
    "    print('Value inside the function ',z)\n",
    "    \n",
    "#z = 10\n",
    "myfunc()\n",
    "print('Value outside the function',z)"
   ]
  },
  {
   "cell_type": "markdown",
   "metadata": {},
   "source": [
    "### Function Arguments"
   ]
  },
  {
   "cell_type": "markdown",
   "metadata": {},
   "source": [
    "#### Example 1"
   ]
  },
  {
   "cell_type": "code",
   "execution_count": 25,
   "metadata": {},
   "outputs": [
    {
     "name": "stdout",
     "output_type": "stream",
     "text": [
      "Hello John, Good Morning!\n"
     ]
    }
   ],
   "source": [
    "def greet(name,msg):\n",
    "    '''Simple greet function with name and message arguments'''\n",
    "    print(\"Hello \" + name + ', ' + msg)\n",
    "\n",
    "greet('John','Good Morning!')"
   ]
  },
  {
   "cell_type": "code",
   "execution_count": 26,
   "metadata": {},
   "outputs": [
    {
     "ename": "TypeError",
     "evalue": "greet() missing 1 required positional argument: 'msg'",
     "output_type": "error",
     "traceback": [
      "\u001b[0;31m---------------------------------------------------------------------------\u001b[0m",
      "\u001b[0;31mTypeError\u001b[0m                                 Traceback (most recent call last)",
      "\u001b[0;32m<ipython-input-26-7a2412e31c55>\u001b[0m in \u001b[0;36m<module>\u001b[0;34m()\u001b[0m\n\u001b[1;32m      1\u001b[0m \u001b[0;31m# this will generate error since we missed one argument\u001b[0m\u001b[0;34m\u001b[0m\u001b[0;34m\u001b[0m\u001b[0m\n\u001b[0;32m----> 2\u001b[0;31m \u001b[0mgreet\u001b[0m\u001b[0;34m(\u001b[0m\u001b[0;34m'John'\u001b[0m\u001b[0;34m)\u001b[0m\u001b[0;34m\u001b[0m\u001b[0m\n\u001b[0m",
      "\u001b[0;31mTypeError\u001b[0m: greet() missing 1 required positional argument: 'msg'"
     ]
    }
   ],
   "source": [
    "# this will generate error since we missed one argument\n",
    "greet('John')"
   ]
  },
  {
   "cell_type": "markdown",
   "metadata": {},
   "source": [
    "#### Default Arguments\n",
    "\n",
    "Default arguments will be used if the argument value is not passed to the function. If a value is passed then it will overwrite the default value."
   ]
  },
  {
   "cell_type": "code",
   "execution_count": 27,
   "metadata": {},
   "outputs": [
    {
     "name": "stdout",
     "output_type": "stream",
     "text": [
      "Hello John, Good Evening!\n"
     ]
    }
   ],
   "source": [
    "def greet(name,msg='Good Evening!'):\n",
    "    '''Simple greet function with name and message arguments'''\n",
    "    print(\"Hello \" + name + ', ' + msg)\n",
    "\n",
    "greet('John')\n",
    "    "
   ]
  },
  {
   "cell_type": "markdown",
   "metadata": {},
   "source": [
    "One rule for default arguments is that once an argument has a default value then all the arguments to the right of it must also have default values. The following example will produce an error."
   ]
  },
  {
   "cell_type": "code",
   "execution_count": 28,
   "metadata": {},
   "outputs": [
    {
     "ename": "SyntaxError",
     "evalue": "non-default argument follows default argument (<ipython-input-28-c2db0cd39e7e>, line 1)",
     "output_type": "error",
     "traceback": [
      "\u001b[0;36m  File \u001b[0;32m\"<ipython-input-28-c2db0cd39e7e>\"\u001b[0;36m, line \u001b[0;32m1\u001b[0m\n\u001b[0;31m    def greet(name,msg='Good Evening!',salute):\u001b[0m\n\u001b[0m             ^\u001b[0m\n\u001b[0;31mSyntaxError\u001b[0m\u001b[0;31m:\u001b[0m non-default argument follows default argument\n"
     ]
    }
   ],
   "source": [
    "def greet(name,msg='Good Evening!',salute):\n",
    "    '''Simple greet function with name and message arguments'''\n",
    "    print(\"Hello \" + salute + '.' + name + ', ' + msg)\n",
    "\n",
    "greet('John','Good Evening','Mr')"
   ]
  },
  {
   "cell_type": "code",
   "execution_count": 29,
   "metadata": {},
   "outputs": [
    {
     "name": "stdout",
     "output_type": "stream",
     "text": [
      "Hello Mrs.John, Good Evening\n"
     ]
    }
   ],
   "source": [
    "def greet(name,msg='Good Evening!',salute='Mr'):\n",
    "    '''Simple greet function with name and message arguments'''\n",
    "    print(\"Hello \" + salute + '.' + name + ', ' + msg)\n",
    "\n",
    "greet('John','Good Evening','Mrs')"
   ]
  },
  {
   "cell_type": "markdown",
   "metadata": {},
   "source": [
    "#### Keyword Arguments"
   ]
  },
  {
   "cell_type": "markdown",
   "metadata": {},
   "source": [
    "Python allows functions to be called using keyword arguments. When we call functions in this way, the order of the arguments can be changed."
   ]
  },
  {
   "cell_type": "code",
   "execution_count": 30,
   "metadata": {
    "collapsed": true
   },
   "outputs": [],
   "source": [
    "def greet(name,msg='Good Evening!',salute='Mr'):\n",
    "    '''Simple greet function with name and message arguments'''\n",
    "    print(\"Hello \" + salute + '.' + name + ', ' + msg)"
   ]
  },
  {
   "cell_type": "code",
   "execution_count": 31,
   "metadata": {},
   "outputs": [
    {
     "name": "stdout",
     "output_type": "stream",
     "text": [
      "Hello Mr.Jack, How are you?\n"
     ]
    }
   ],
   "source": [
    "# keyword arguments\n",
    "greet(name=\"Jack\",msg=\"How are you?\")"
   ]
  },
  {
   "cell_type": "code",
   "execution_count": 33,
   "metadata": {},
   "outputs": [
    {
     "name": "stdout",
     "output_type": "stream",
     "text": [
      "Hello Mr.Brian, How do you do?\n"
     ]
    }
   ],
   "source": [
    "# keyword arguments - out of order\n",
    "greet(msg='How do you do?',name=\"Brian\")"
   ]
  },
  {
   "cell_type": "code",
   "execution_count": 35,
   "metadata": {},
   "outputs": [
    {
     "name": "stdout",
     "output_type": "stream",
     "text": [
      "Hello Ms.Jill, Good to see you.\n"
     ]
    }
   ],
   "source": [
    "# mix of keyword and positional arguments\n",
    "greet(\"Jill\",salute='Ms',msg=\"Good to see you.\")"
   ]
  },
  {
   "cell_type": "markdown",
   "metadata": {},
   "source": [
    "However please note that having a positional argument after keyword argument will result into errors. For example the following example will generate an error."
   ]
  },
  {
   "cell_type": "code",
   "execution_count": 36,
   "metadata": {},
   "outputs": [
    {
     "ename": "SyntaxError",
     "evalue": "positional argument follows keyword argument (<ipython-input-36-052fd2bc6ad8>, line 1)",
     "output_type": "error",
     "traceback": [
      "\u001b[0;36m  File \u001b[0;32m\"<ipython-input-36-052fd2bc6ad8>\"\u001b[0;36m, line \u001b[0;32m1\u001b[0m\n\u001b[0;31m    greet(name=\"Keith\",\"Good Afternoon\")\u001b[0m\n\u001b[0m                      ^\u001b[0m\n\u001b[0;31mSyntaxError\u001b[0m\u001b[0;31m:\u001b[0m positional argument follows keyword argument\n"
     ]
    }
   ],
   "source": [
    "greet(name=\"Keith\",\"Good Afternoon\")"
   ]
  },
  {
   "cell_type": "markdown",
   "metadata": {},
   "source": [
    "#### Arbitrary Arguments"
   ]
  },
  {
   "cell_type": "markdown",
   "metadata": {},
   "source": [
    "Python allows unknown number of arguments to be passed to a function through arbitrary arguments. Arbitrary arguments are declared by placing an asterix (*) in front of the parameter name"
   ]
  },
  {
   "cell_type": "code",
   "execution_count": 37,
   "metadata": {},
   "outputs": [
    {
     "name": "stdout",
     "output_type": "stream",
     "text": [
      "Hello  John\n",
      "Hello  Keith\n",
      "Hello  Brian\n",
      "Hello  Jose\n"
     ]
    }
   ],
   "source": [
    "def greet(*names):\n",
    "    '''This function greets all with a Hello'''\n",
    "    for name in names:\n",
    "        print('Hello ',name)\n",
    "    \n",
    "greet('John','Keith','Brian','Jose')"
   ]
  },
  {
   "cell_type": "markdown",
   "metadata": {},
   "source": [
    "### Recursive Functions"
   ]
  },
  {
   "cell_type": "markdown",
   "metadata": {},
   "source": [
    "Function that calls itself is called recursive function.\n",
    "\n",
    "While the recursive functions are clean and elegant care must be taken as it might take up lot of memory and time and it is also hard to debug.\n",
    "\n",
    "Please note the recursive function must also have a base condition that stops the recursion otherwise the function calls itself indefinitely."
   ]
  },
  {
   "cell_type": "code",
   "execution_count": 49,
   "metadata": {},
   "outputs": [
    {
     "name": "stdout",
     "output_type": "stream",
     "text": [
      "Factorial of number  4  is  24\n"
     ]
    }
   ],
   "source": [
    "def factorial(num):\n",
    "    if(num <= 0):\n",
    "        return 0\n",
    "    elif(num == 1):\n",
    "        return 1\n",
    "    else:\n",
    "        return(num * factorial(num-1))\n",
    "    \n",
    "num = 4\n",
    "print(\"Factorial of number \",num,\" is \",factorial(num))"
   ]
  }
 ],
 "metadata": {
  "kernelspec": {
   "display_name": "Python 3",
   "language": "python",
   "name": "python3"
  },
  "language_info": {
   "codemirror_mode": {
    "name": "ipython",
    "version": 3
   },
   "file_extension": ".py",
   "mimetype": "text/x-python",
   "name": "python",
   "nbconvert_exporter": "python",
   "pygments_lexer": "ipython3",
   "version": "3.6.1"
  }
 },
 "nbformat": 4,
 "nbformat_minor": 2
}
